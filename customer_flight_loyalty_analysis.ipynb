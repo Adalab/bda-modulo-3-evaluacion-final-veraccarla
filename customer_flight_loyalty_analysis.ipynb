{
 "cells": [
  {
   "cell_type": "markdown",
   "metadata": {},
   "source": [
    "# Customer Flight and Loyalty Analysis"
   ]
  },
  {
   "cell_type": "code",
   "execution_count": 1,
   "metadata": {},
   "outputs": [],
   "source": [
    "# Importación de librerías necesarias\n",
    "# -----------------------------------------------------------------------\n",
    "\n",
    "\n",
    "# Tratamiento de datos\n",
    "import pandas as pd\n",
    "import numpy as np \n",
    "# -----------------------------------------------------------------------\n",
    "\n",
    "# Imputación de nulos usando métodos avanzados estadísticos\n",
    "from sklearn.impute import SimpleImputer\n",
    "from sklearn.experimental import enable_iterative_imputer\n",
    "from sklearn.impute import IterativeImputer\n",
    "from sklearn.impute import KNNImputer\n",
    "# -----------------------------------------------------------------------\n",
    "\n",
    "# Visualización y gráficos\n",
    "import matplotlib.pyplot as plt\n",
    "import seaborn as sns\n",
    "# -----------------------------------------------------------------------\n",
    "\n",
    "# Evaluación de linealidad de las relaciones entre las variables y su distribución\n",
    "import scipy.stats as stats\n",
    "from scipy.stats import shapiro, poisson, chisquare, expon, kstest\n",
    "# ------------------------------------------------------------------------------\n",
    "\n",
    "# Configuración para visualizar todas las columnas de los DataFrames\n",
    "pd.set_option('display.max_columns', None)\n",
    "# -----------------------------------------------------------------------\n",
    "\n",
    "# Configuración para mejoras de la visualización\n",
    "from IPython.display import display\n",
    "# -----------------------------------------------------------------------\n",
    "\n",
    "\n",
    "# Gestión de warnings\n",
    "import warnings\n",
    "warnings.filterwarnings(\"ignore\")\n",
    "# -----------------------------------------------------------------------\n",
    "\n",
    "\n",
    "# Importación de DataFrames\n",
    "df_flight = pd.read_csv(\"customer_flight_activity.csv\")\n",
    "df_loyalty = pd.read_csv(\"customer_loyalty_history.csv\")"
   ]
  },
  {
   "cell_type": "markdown",
   "metadata": {},
   "source": [
    "## 1. Exploratory Data Analysis and Preprocessing"
   ]
  },
  {
   "cell_type": "markdown",
   "metadata": {},
   "source": [
    "### 1.1. **Data Exploration**"
   ]
  },
  {
   "cell_type": "code",
   "execution_count": 2,
   "metadata": {},
   "outputs": [
    {
     "data": {
      "text/html": [
       "<div>\n",
       "<style scoped>\n",
       "    .dataframe tbody tr th:only-of-type {\n",
       "        vertical-align: middle;\n",
       "    }\n",
       "\n",
       "    .dataframe tbody tr th {\n",
       "        vertical-align: top;\n",
       "    }\n",
       "\n",
       "    .dataframe thead th {\n",
       "        text-align: right;\n",
       "    }\n",
       "</style>\n",
       "<table border=\"1\" class=\"dataframe\">\n",
       "  <thead>\n",
       "    <tr style=\"text-align: right;\">\n",
       "      <th></th>\n",
       "      <th>Loyalty Number</th>\n",
       "      <th>Year</th>\n",
       "      <th>Month</th>\n",
       "      <th>Flights Booked</th>\n",
       "      <th>Flights with Companions</th>\n",
       "      <th>Total Flights</th>\n",
       "      <th>Distance</th>\n",
       "      <th>Points Accumulated</th>\n",
       "      <th>Points Redeemed</th>\n",
       "      <th>Dollar Cost Points Redeemed</th>\n",
       "    </tr>\n",
       "  </thead>\n",
       "  <tbody>\n",
       "    <tr>\n",
       "      <th>0</th>\n",
       "      <td>100018</td>\n",
       "      <td>2017</td>\n",
       "      <td>1</td>\n",
       "      <td>3</td>\n",
       "      <td>0</td>\n",
       "      <td>3</td>\n",
       "      <td>1521</td>\n",
       "      <td>152.0</td>\n",
       "      <td>0</td>\n",
       "      <td>0</td>\n",
       "    </tr>\n",
       "    <tr>\n",
       "      <th>1</th>\n",
       "      <td>100102</td>\n",
       "      <td>2017</td>\n",
       "      <td>1</td>\n",
       "      <td>10</td>\n",
       "      <td>4</td>\n",
       "      <td>14</td>\n",
       "      <td>2030</td>\n",
       "      <td>203.0</td>\n",
       "      <td>0</td>\n",
       "      <td>0</td>\n",
       "    </tr>\n",
       "    <tr>\n",
       "      <th>2</th>\n",
       "      <td>100140</td>\n",
       "      <td>2017</td>\n",
       "      <td>1</td>\n",
       "      <td>6</td>\n",
       "      <td>0</td>\n",
       "      <td>6</td>\n",
       "      <td>1200</td>\n",
       "      <td>120.0</td>\n",
       "      <td>0</td>\n",
       "      <td>0</td>\n",
       "    </tr>\n",
       "  </tbody>\n",
       "</table>\n",
       "</div>"
      ],
      "text/plain": [
       "   Loyalty Number  Year  Month  Flights Booked  Flights with Companions  \\\n",
       "0          100018  2017      1               3                        0   \n",
       "1          100102  2017      1              10                        4   \n",
       "2          100140  2017      1               6                        0   \n",
       "\n",
       "   Total Flights  Distance  Points Accumulated  Points Redeemed  \\\n",
       "0              3      1521               152.0                0   \n",
       "1             14      2030               203.0                0   \n",
       "2              6      1200               120.0                0   \n",
       "\n",
       "   Dollar Cost Points Redeemed  \n",
       "0                            0  \n",
       "1                            0  \n",
       "2                            0  "
      ]
     },
     "execution_count": 2,
     "metadata": {},
     "output_type": "execute_result"
    }
   ],
   "source": [
    "df_flight.head(3)"
   ]
  },
  {
   "cell_type": "code",
   "execution_count": 3,
   "metadata": {},
   "outputs": [
    {
     "data": {
      "text/plain": [
       "(405624, 10)"
      ]
     },
     "execution_count": 3,
     "metadata": {},
     "output_type": "execute_result"
    }
   ],
   "source": [
    "df_flight.shape"
   ]
  },
  {
   "cell_type": "code",
   "execution_count": 4,
   "metadata": {},
   "outputs": [
    {
     "data": {
      "text/plain": [
       "Index(['Loyalty Number', 'Year', 'Month', 'Flights Booked',\n",
       "       'Flights with Companions', 'Total Flights', 'Distance',\n",
       "       'Points Accumulated', 'Points Redeemed', 'Dollar Cost Points Redeemed'],\n",
       "      dtype='object')"
      ]
     },
     "execution_count": 4,
     "metadata": {},
     "output_type": "execute_result"
    }
   ],
   "source": [
    "df_flight.columns"
   ]
  },
  {
   "cell_type": "code",
   "execution_count": 5,
   "metadata": {},
   "outputs": [
    {
     "data": {
      "text/html": [
       "<div>\n",
       "<style scoped>\n",
       "    .dataframe tbody tr th:only-of-type {\n",
       "        vertical-align: middle;\n",
       "    }\n",
       "\n",
       "    .dataframe tbody tr th {\n",
       "        vertical-align: top;\n",
       "    }\n",
       "\n",
       "    .dataframe thead th {\n",
       "        text-align: right;\n",
       "    }\n",
       "</style>\n",
       "<table border=\"1\" class=\"dataframe\">\n",
       "  <thead>\n",
       "    <tr style=\"text-align: right;\">\n",
       "      <th></th>\n",
       "      <th>Loyalty Number</th>\n",
       "      <th>Country</th>\n",
       "      <th>Province</th>\n",
       "      <th>City</th>\n",
       "      <th>Postal Code</th>\n",
       "      <th>Gender</th>\n",
       "      <th>Education</th>\n",
       "      <th>Salary</th>\n",
       "      <th>Marital Status</th>\n",
       "      <th>Loyalty Card</th>\n",
       "      <th>CLV</th>\n",
       "      <th>Enrollment Type</th>\n",
       "      <th>Enrollment Year</th>\n",
       "      <th>Enrollment Month</th>\n",
       "      <th>Cancellation Year</th>\n",
       "      <th>Cancellation Month</th>\n",
       "    </tr>\n",
       "  </thead>\n",
       "  <tbody>\n",
       "    <tr>\n",
       "      <th>0</th>\n",
       "      <td>480934</td>\n",
       "      <td>Canada</td>\n",
       "      <td>Ontario</td>\n",
       "      <td>Toronto</td>\n",
       "      <td>M2Z 4K1</td>\n",
       "      <td>Female</td>\n",
       "      <td>Bachelor</td>\n",
       "      <td>83236.0</td>\n",
       "      <td>Married</td>\n",
       "      <td>Star</td>\n",
       "      <td>3839.14</td>\n",
       "      <td>Standard</td>\n",
       "      <td>2016</td>\n",
       "      <td>2</td>\n",
       "      <td>NaN</td>\n",
       "      <td>NaN</td>\n",
       "    </tr>\n",
       "    <tr>\n",
       "      <th>1</th>\n",
       "      <td>549612</td>\n",
       "      <td>Canada</td>\n",
       "      <td>Alberta</td>\n",
       "      <td>Edmonton</td>\n",
       "      <td>T3G 6Y6</td>\n",
       "      <td>Male</td>\n",
       "      <td>College</td>\n",
       "      <td>NaN</td>\n",
       "      <td>Divorced</td>\n",
       "      <td>Star</td>\n",
       "      <td>3839.61</td>\n",
       "      <td>Standard</td>\n",
       "      <td>2016</td>\n",
       "      <td>3</td>\n",
       "      <td>NaN</td>\n",
       "      <td>NaN</td>\n",
       "    </tr>\n",
       "    <tr>\n",
       "      <th>2</th>\n",
       "      <td>429460</td>\n",
       "      <td>Canada</td>\n",
       "      <td>British Columbia</td>\n",
       "      <td>Vancouver</td>\n",
       "      <td>V6E 3D9</td>\n",
       "      <td>Male</td>\n",
       "      <td>College</td>\n",
       "      <td>NaN</td>\n",
       "      <td>Single</td>\n",
       "      <td>Star</td>\n",
       "      <td>3839.75</td>\n",
       "      <td>Standard</td>\n",
       "      <td>2014</td>\n",
       "      <td>7</td>\n",
       "      <td>2018.0</td>\n",
       "      <td>1.0</td>\n",
       "    </tr>\n",
       "  </tbody>\n",
       "</table>\n",
       "</div>"
      ],
      "text/plain": [
       "   Loyalty Number Country          Province       City Postal Code  Gender  \\\n",
       "0          480934  Canada           Ontario    Toronto     M2Z 4K1  Female   \n",
       "1          549612  Canada           Alberta   Edmonton     T3G 6Y6    Male   \n",
       "2          429460  Canada  British Columbia  Vancouver     V6E 3D9    Male   \n",
       "\n",
       "  Education   Salary Marital Status Loyalty Card      CLV Enrollment Type  \\\n",
       "0  Bachelor  83236.0        Married         Star  3839.14        Standard   \n",
       "1   College      NaN       Divorced         Star  3839.61        Standard   \n",
       "2   College      NaN         Single         Star  3839.75        Standard   \n",
       "\n",
       "   Enrollment Year  Enrollment Month  Cancellation Year  Cancellation Month  \n",
       "0             2016                 2                NaN                 NaN  \n",
       "1             2016                 3                NaN                 NaN  \n",
       "2             2014                 7             2018.0                 1.0  "
      ]
     },
     "execution_count": 5,
     "metadata": {},
     "output_type": "execute_result"
    }
   ],
   "source": [
    "df_loyalty.head(3)"
   ]
  },
  {
   "cell_type": "code",
   "execution_count": 6,
   "metadata": {},
   "outputs": [
    {
     "data": {
      "text/plain": [
       "(16737, 16)"
      ]
     },
     "execution_count": 6,
     "metadata": {},
     "output_type": "execute_result"
    }
   ],
   "source": [
    "df_loyalty.shape"
   ]
  },
  {
   "cell_type": "code",
   "execution_count": 7,
   "metadata": {},
   "outputs": [
    {
     "data": {
      "text/plain": [
       "Index(['Loyalty Number', 'Country', 'Province', 'City', 'Postal Code',\n",
       "       'Gender', 'Education', 'Salary', 'Marital Status', 'Loyalty Card',\n",
       "       'CLV', 'Enrollment Type', 'Enrollment Year', 'Enrollment Month',\n",
       "       'Cancellation Year', 'Cancellation Month'],\n",
       "      dtype='object')"
      ]
     },
     "execution_count": 7,
     "metadata": {},
     "output_type": "execute_result"
    }
   ],
   "source": [
    "df_loyalty.columns"
   ]
  },
  {
   "cell_type": "markdown",
   "metadata": {},
   "source": [
    "#### Realizamos la **unión** de ambos DataFrame a través de la columna común **'Loyalty Number'** y *EXPLORAMOS* este nuevo DataFrame:"
   ]
  },
  {
   "cell_type": "code",
   "execution_count": 8,
   "metadata": {},
   "outputs": [
    {
     "data": {
      "text/html": [
       "<div>\n",
       "<style scoped>\n",
       "    .dataframe tbody tr th:only-of-type {\n",
       "        vertical-align: middle;\n",
       "    }\n",
       "\n",
       "    .dataframe tbody tr th {\n",
       "        vertical-align: top;\n",
       "    }\n",
       "\n",
       "    .dataframe thead th {\n",
       "        text-align: right;\n",
       "    }\n",
       "</style>\n",
       "<table border=\"1\" class=\"dataframe\">\n",
       "  <thead>\n",
       "    <tr style=\"text-align: right;\">\n",
       "      <th></th>\n",
       "      <th>Loyalty Number</th>\n",
       "      <th>Year</th>\n",
       "      <th>Month</th>\n",
       "      <th>Flights Booked</th>\n",
       "      <th>Flights with Companions</th>\n",
       "      <th>Total Flights</th>\n",
       "      <th>Distance</th>\n",
       "      <th>Points Accumulated</th>\n",
       "      <th>Points Redeemed</th>\n",
       "      <th>Dollar Cost Points Redeemed</th>\n",
       "      <th>Country</th>\n",
       "      <th>Province</th>\n",
       "      <th>City</th>\n",
       "      <th>Postal Code</th>\n",
       "      <th>Gender</th>\n",
       "      <th>Education</th>\n",
       "      <th>Salary</th>\n",
       "      <th>Marital Status</th>\n",
       "      <th>Loyalty Card</th>\n",
       "      <th>CLV</th>\n",
       "      <th>Enrollment Type</th>\n",
       "      <th>Enrollment Year</th>\n",
       "      <th>Enrollment Month</th>\n",
       "      <th>Cancellation Year</th>\n",
       "      <th>Cancellation Month</th>\n",
       "    </tr>\n",
       "  </thead>\n",
       "  <tbody>\n",
       "    <tr>\n",
       "      <th>0</th>\n",
       "      <td>100018</td>\n",
       "      <td>2017</td>\n",
       "      <td>1</td>\n",
       "      <td>3</td>\n",
       "      <td>0</td>\n",
       "      <td>3</td>\n",
       "      <td>1521</td>\n",
       "      <td>152.0</td>\n",
       "      <td>0</td>\n",
       "      <td>0</td>\n",
       "      <td>Canada</td>\n",
       "      <td>Alberta</td>\n",
       "      <td>Edmonton</td>\n",
       "      <td>T9G 1W3</td>\n",
       "      <td>Female</td>\n",
       "      <td>Bachelor</td>\n",
       "      <td>92552.0</td>\n",
       "      <td>Married</td>\n",
       "      <td>Aurora</td>\n",
       "      <td>7919.2</td>\n",
       "      <td>Standard</td>\n",
       "      <td>2016</td>\n",
       "      <td>8</td>\n",
       "      <td>NaN</td>\n",
       "      <td>NaN</td>\n",
       "    </tr>\n",
       "    <tr>\n",
       "      <th>1</th>\n",
       "      <td>100018</td>\n",
       "      <td>2017</td>\n",
       "      <td>2</td>\n",
       "      <td>2</td>\n",
       "      <td>2</td>\n",
       "      <td>4</td>\n",
       "      <td>1320</td>\n",
       "      <td>132.0</td>\n",
       "      <td>0</td>\n",
       "      <td>0</td>\n",
       "      <td>Canada</td>\n",
       "      <td>Alberta</td>\n",
       "      <td>Edmonton</td>\n",
       "      <td>T9G 1W3</td>\n",
       "      <td>Female</td>\n",
       "      <td>Bachelor</td>\n",
       "      <td>92552.0</td>\n",
       "      <td>Married</td>\n",
       "      <td>Aurora</td>\n",
       "      <td>7919.2</td>\n",
       "      <td>Standard</td>\n",
       "      <td>2016</td>\n",
       "      <td>8</td>\n",
       "      <td>NaN</td>\n",
       "      <td>NaN</td>\n",
       "    </tr>\n",
       "    <tr>\n",
       "      <th>2</th>\n",
       "      <td>100018</td>\n",
       "      <td>2018</td>\n",
       "      <td>10</td>\n",
       "      <td>6</td>\n",
       "      <td>4</td>\n",
       "      <td>10</td>\n",
       "      <td>3110</td>\n",
       "      <td>311.0</td>\n",
       "      <td>385</td>\n",
       "      <td>31</td>\n",
       "      <td>Canada</td>\n",
       "      <td>Alberta</td>\n",
       "      <td>Edmonton</td>\n",
       "      <td>T9G 1W3</td>\n",
       "      <td>Female</td>\n",
       "      <td>Bachelor</td>\n",
       "      <td>92552.0</td>\n",
       "      <td>Married</td>\n",
       "      <td>Aurora</td>\n",
       "      <td>7919.2</td>\n",
       "      <td>Standard</td>\n",
       "      <td>2016</td>\n",
       "      <td>8</td>\n",
       "      <td>NaN</td>\n",
       "      <td>NaN</td>\n",
       "    </tr>\n",
       "    <tr>\n",
       "      <th>3</th>\n",
       "      <td>100018</td>\n",
       "      <td>2017</td>\n",
       "      <td>4</td>\n",
       "      <td>4</td>\n",
       "      <td>0</td>\n",
       "      <td>4</td>\n",
       "      <td>924</td>\n",
       "      <td>92.0</td>\n",
       "      <td>0</td>\n",
       "      <td>0</td>\n",
       "      <td>Canada</td>\n",
       "      <td>Alberta</td>\n",
       "      <td>Edmonton</td>\n",
       "      <td>T9G 1W3</td>\n",
       "      <td>Female</td>\n",
       "      <td>Bachelor</td>\n",
       "      <td>92552.0</td>\n",
       "      <td>Married</td>\n",
       "      <td>Aurora</td>\n",
       "      <td>7919.2</td>\n",
       "      <td>Standard</td>\n",
       "      <td>2016</td>\n",
       "      <td>8</td>\n",
       "      <td>NaN</td>\n",
       "      <td>NaN</td>\n",
       "    </tr>\n",
       "    <tr>\n",
       "      <th>4</th>\n",
       "      <td>100018</td>\n",
       "      <td>2017</td>\n",
       "      <td>5</td>\n",
       "      <td>0</td>\n",
       "      <td>0</td>\n",
       "      <td>0</td>\n",
       "      <td>0</td>\n",
       "      <td>0.0</td>\n",
       "      <td>0</td>\n",
       "      <td>0</td>\n",
       "      <td>Canada</td>\n",
       "      <td>Alberta</td>\n",
       "      <td>Edmonton</td>\n",
       "      <td>T9G 1W3</td>\n",
       "      <td>Female</td>\n",
       "      <td>Bachelor</td>\n",
       "      <td>92552.0</td>\n",
       "      <td>Married</td>\n",
       "      <td>Aurora</td>\n",
       "      <td>7919.2</td>\n",
       "      <td>Standard</td>\n",
       "      <td>2016</td>\n",
       "      <td>8</td>\n",
       "      <td>NaN</td>\n",
       "      <td>NaN</td>\n",
       "    </tr>\n",
       "  </tbody>\n",
       "</table>\n",
       "</div>"
      ],
      "text/plain": [
       "   Loyalty Number  Year  Month  Flights Booked  Flights with Companions  \\\n",
       "0          100018  2017      1               3                        0   \n",
       "1          100018  2017      2               2                        2   \n",
       "2          100018  2018     10               6                        4   \n",
       "3          100018  2017      4               4                        0   \n",
       "4          100018  2017      5               0                        0   \n",
       "\n",
       "   Total Flights  Distance  Points Accumulated  Points Redeemed  \\\n",
       "0              3      1521               152.0                0   \n",
       "1              4      1320               132.0                0   \n",
       "2             10      3110               311.0              385   \n",
       "3              4       924                92.0                0   \n",
       "4              0         0                 0.0                0   \n",
       "\n",
       "   Dollar Cost Points Redeemed Country Province      City Postal Code  Gender  \\\n",
       "0                            0  Canada  Alberta  Edmonton     T9G 1W3  Female   \n",
       "1                            0  Canada  Alberta  Edmonton     T9G 1W3  Female   \n",
       "2                           31  Canada  Alberta  Edmonton     T9G 1W3  Female   \n",
       "3                            0  Canada  Alberta  Edmonton     T9G 1W3  Female   \n",
       "4                            0  Canada  Alberta  Edmonton     T9G 1W3  Female   \n",
       "\n",
       "  Education   Salary Marital Status Loyalty Card     CLV Enrollment Type  \\\n",
       "0  Bachelor  92552.0        Married       Aurora  7919.2        Standard   \n",
       "1  Bachelor  92552.0        Married       Aurora  7919.2        Standard   \n",
       "2  Bachelor  92552.0        Married       Aurora  7919.2        Standard   \n",
       "3  Bachelor  92552.0        Married       Aurora  7919.2        Standard   \n",
       "4  Bachelor  92552.0        Married       Aurora  7919.2        Standard   \n",
       "\n",
       "   Enrollment Year  Enrollment Month  Cancellation Year  Cancellation Month  \n",
       "0             2016                 8                NaN                 NaN  \n",
       "1             2016                 8                NaN                 NaN  \n",
       "2             2016                 8                NaN                 NaN  \n",
       "3             2016                 8                NaN                 NaN  \n",
       "4             2016                 8                NaN                 NaN  "
      ]
     },
     "execution_count": 8,
     "metadata": {},
     "output_type": "execute_result"
    }
   ],
   "source": [
    "df_customers = df_flight.merge(df_loyalty, on=\"Loyalty Number\", how=\"outer\")\n",
    "df_customers.head(5)"
   ]
  },
  {
   "cell_type": "markdown",
   "metadata": {},
   "source": [
    "**Observación:**\n",
    "> Tal y como podemos observar, los **'Loyalty number'** se repiten múltiples veces."
   ]
  },
  {
   "cell_type": "code",
   "execution_count": 9,
   "metadata": {},
   "outputs": [
    {
     "data": {
      "text/plain": [
       "16737"
      ]
     },
     "execution_count": 9,
     "metadata": {},
     "output_type": "execute_result"
    }
   ],
   "source": [
    "df_customers['Loyalty Number'].nunique()"
   ]
  },
  {
   "cell_type": "markdown",
   "metadata": {},
   "source": [
    "**Conclusión:**\n",
    "> Comprobamos que el número de valores únicos de **'Loyalty Number'** de nuestro DataFrame final **df_customers** coincide con el número de entradas totales del DataFrame original **df_loyalty** (16737).\n",
    "\n",
    "> Por tanto, la explicación de que aparezcan múltiples veces se debe a que, tras la unión de ambos DataFrame, cada **'Loyalty Number'** tiene asociados múltiples vuelos."
   ]
  },
  {
   "cell_type": "code",
   "execution_count": 10,
   "metadata": {},
   "outputs": [
    {
     "data": {
      "text/plain": [
       "(405624, 25)"
      ]
     },
     "execution_count": 10,
     "metadata": {},
     "output_type": "execute_result"
    }
   ],
   "source": [
    "df_customers.shape"
   ]
  },
  {
   "cell_type": "code",
   "execution_count": 11,
   "metadata": {},
   "outputs": [
    {
     "data": {
      "text/plain": [
       "Index(['Loyalty Number', 'Year', 'Month', 'Flights Booked',\n",
       "       'Flights with Companions', 'Total Flights', 'Distance',\n",
       "       'Points Accumulated', 'Points Redeemed', 'Dollar Cost Points Redeemed',\n",
       "       'Country', 'Province', 'City', 'Postal Code', 'Gender', 'Education',\n",
       "       'Salary', 'Marital Status', 'Loyalty Card', 'CLV', 'Enrollment Type',\n",
       "       'Enrollment Year', 'Enrollment Month', 'Cancellation Year',\n",
       "       'Cancellation Month'],\n",
       "      dtype='object')"
      ]
     },
     "execution_count": 11,
     "metadata": {},
     "output_type": "execute_result"
    }
   ],
   "source": [
    "df_customers.columns"
   ]
  },
  {
   "cell_type": "code",
   "execution_count": 12,
   "metadata": {},
   "outputs": [
    {
     "data": {
      "text/plain": [
       "Loyalty Number                 16737\n",
       "Year                               2\n",
       "Month                             12\n",
       "Flights Booked                    22\n",
       "Flights with Companions           12\n",
       "Total Flights                     33\n",
       "Distance                        4746\n",
       "Points Accumulated              1549\n",
       "Points Redeemed                  587\n",
       "Dollar Cost Points Redeemed       49\n",
       "Country                            1\n",
       "Province                          11\n",
       "City                              29\n",
       "Postal Code                       55\n",
       "Gender                             2\n",
       "Education                          5\n",
       "Salary                          5890\n",
       "Marital Status                     3\n",
       "Loyalty Card                       3\n",
       "CLV                             7984\n",
       "Enrollment Type                    2\n",
       "Enrollment Year                    7\n",
       "Enrollment Month                  12\n",
       "Cancellation Year                  6\n",
       "Cancellation Month                12\n",
       "dtype: int64"
      ]
     },
     "execution_count": 12,
     "metadata": {},
     "output_type": "execute_result"
    }
   ],
   "source": [
    "df_customers.nunique()"
   ]
  },
  {
   "cell_type": "code",
   "execution_count": 13,
   "metadata": {},
   "outputs": [
    {
     "data": {
      "text/plain": [
       "1864"
      ]
     },
     "execution_count": 13,
     "metadata": {},
     "output_type": "execute_result"
    }
   ],
   "source": [
    "df_customers.duplicated().sum()"
   ]
  },
  {
   "cell_type": "code",
   "execution_count": 14,
   "metadata": {},
   "outputs": [
    {
     "name": "stdout",
     "output_type": "stream",
     "text": [
      "<class 'pandas.core.frame.DataFrame'>\n",
      "RangeIndex: 405624 entries, 0 to 405623\n",
      "Data columns (total 25 columns):\n",
      " #   Column                       Non-Null Count   Dtype  \n",
      "---  ------                       --------------   -----  \n",
      " 0   Loyalty Number               405624 non-null  int64  \n",
      " 1   Year                         405624 non-null  int64  \n",
      " 2   Month                        405624 non-null  int64  \n",
      " 3   Flights Booked               405624 non-null  int64  \n",
      " 4   Flights with Companions      405624 non-null  int64  \n",
      " 5   Total Flights                405624 non-null  int64  \n",
      " 6   Distance                     405624 non-null  int64  \n",
      " 7   Points Accumulated           405624 non-null  float64\n",
      " 8   Points Redeemed              405624 non-null  int64  \n",
      " 9   Dollar Cost Points Redeemed  405624 non-null  int64  \n",
      " 10  Country                      405624 non-null  object \n",
      " 11  Province                     405624 non-null  object \n",
      " 12  City                         405624 non-null  object \n",
      " 13  Postal Code                  405624 non-null  object \n",
      " 14  Gender                       405624 non-null  object \n",
      " 15  Education                    405624 non-null  object \n",
      " 16  Salary                       302952 non-null  float64\n",
      " 17  Marital Status               405624 non-null  object \n",
      " 18  Loyalty Card                 405624 non-null  object \n",
      " 19  CLV                          405624 non-null  float64\n",
      " 20  Enrollment Type              405624 non-null  object \n",
      " 21  Enrollment Year              405624 non-null  int64  \n",
      " 22  Enrollment Month             405624 non-null  int64  \n",
      " 23  Cancellation Year            50064 non-null   float64\n",
      " 24  Cancellation Month           50064 non-null   float64\n",
      "dtypes: float64(5), int64(11), object(9)\n",
      "memory usage: 77.4+ MB\n"
     ]
    }
   ],
   "source": [
    "df_customers.info() "
   ]
  },
  {
   "cell_type": "code",
   "execution_count": 15,
   "metadata": {},
   "outputs": [
    {
     "data": {
      "text/plain": [
       "Cancellation Month             355560\n",
       "Cancellation Year              355560\n",
       "Salary                         102672\n",
       "Postal Code                         0\n",
       "Enrollment Month                    0\n",
       "Enrollment Year                     0\n",
       "Enrollment Type                     0\n",
       "CLV                                 0\n",
       "Loyalty Card                        0\n",
       "Marital Status                      0\n",
       "Education                           0\n",
       "Gender                              0\n",
       "Loyalty Number                      0\n",
       "Year                                0\n",
       "Province                            0\n",
       "Country                             0\n",
       "Dollar Cost Points Redeemed         0\n",
       "Points Redeemed                     0\n",
       "Points Accumulated                  0\n",
       "Distance                            0\n",
       "Total Flights                       0\n",
       "Flights with Companions             0\n",
       "Flights Booked                      0\n",
       "Month                               0\n",
       "City                                0\n",
       "dtype: int64"
      ]
     },
     "execution_count": 15,
     "metadata": {},
     "output_type": "execute_result"
    }
   ],
   "source": [
    "# Hacemos recuento de aquellas columnas con valores nulos:\n",
    "\n",
    "nulls = df_customers.isnull().sum()\n",
    "nulls.sort_values(ascending=False)"
   ]
  },
  {
   "cell_type": "markdown",
   "metadata": {},
   "source": [
    "Evaluamos el porcentaje de nulos de cada una de las columnas con nulos y el tipo de dato asociado a cada una de ellas:"
   ]
  },
  {
   "cell_type": "code",
   "execution_count": 16,
   "metadata": {},
   "outputs": [
    {
     "name": "stdout",
     "output_type": "stream",
     "text": [
      "La columna \"Cancellation Month\" es de tipo: float64.\n",
      "Su porcentaje de nulos es 87.65753505709722\n",
      "--------------------------------------------------------\n",
      "La columna \"Cancellation Year\" es de tipo: float64.\n",
      "Su porcentaje de nulos es 87.65753505709722\n",
      "--------------------------------------------------------\n",
      "La columna \"Salary\" es de tipo: float64.\n",
      "Su porcentaje de nulos es 25.31211170936631\n",
      "--------------------------------------------------------\n"
     ]
    }
   ],
   "source": [
    "# Transformamos los nulos a porcentaje de nulos:\n",
    "\n",
    "nulls_percentage = nulls/df_customers.shape[0]*100\n",
    "\n",
    "\n",
    "# Creamos una lista de las columnas con nulos sobre las cuales poder iterar:\n",
    "\n",
    "columns_with_nulls = ['Cancellation Month', 'Cancellation Year', 'Salary']\n",
    "\n",
    "\n",
    "for col in columns_with_nulls:\n",
    "    print(f'La columna \"{col}\" es de tipo: {df_customers.dtypes[col]}.')\n",
    "    print(f'Su porcentaje de nulos es {nulls_percentage[col]}')\n",
    "    print('--------------------------------------------------------')"
   ]
  },
  {
   "cell_type": "markdown",
   "metadata": {},
   "source": [
    "**Observaciones:**\n",
    "> - Las tres columnas contienen variables relevantes para el análisis, pues tanto el salario como el porcentaje de cancelaciones de la membresía podrían ser interesantes para el estudio.\n",
    "\n",
    "> - Las tres columnas contienen variables de tipo numérico.\n",
    "\n",
    "> - Las tres columnas presentan un alto porcentaje de nulos, especialmente \"Cancellation Year\" y \"Cancellation Month\"."
   ]
  },
  {
   "cell_type": "code",
   "execution_count": 17,
   "metadata": {},
   "outputs": [
    {
     "data": {
      "text/html": [
       "<div>\n",
       "<style scoped>\n",
       "    .dataframe tbody tr th:only-of-type {\n",
       "        vertical-align: middle;\n",
       "    }\n",
       "\n",
       "    .dataframe tbody tr th {\n",
       "        vertical-align: top;\n",
       "    }\n",
       "\n",
       "    .dataframe thead th {\n",
       "        text-align: right;\n",
       "    }\n",
       "</style>\n",
       "<table border=\"1\" class=\"dataframe\">\n",
       "  <thead>\n",
       "    <tr style=\"text-align: right;\">\n",
       "      <th></th>\n",
       "      <th>count</th>\n",
       "      <th>mean</th>\n",
       "      <th>std</th>\n",
       "      <th>min</th>\n",
       "      <th>25%</th>\n",
       "      <th>50%</th>\n",
       "      <th>75%</th>\n",
       "      <th>max</th>\n",
       "    </tr>\n",
       "  </thead>\n",
       "  <tbody>\n",
       "    <tr>\n",
       "      <th>Loyalty Number</th>\n",
       "      <td>405624.0</td>\n",
       "      <td>550037.873084</td>\n",
       "      <td>258935.286969</td>\n",
       "      <td>100018.00</td>\n",
       "      <td>326961.00</td>\n",
       "      <td>550834.00</td>\n",
       "      <td>772194.00</td>\n",
       "      <td>999986.00</td>\n",
       "    </tr>\n",
       "    <tr>\n",
       "      <th>Year</th>\n",
       "      <td>405624.0</td>\n",
       "      <td>2017.500000</td>\n",
       "      <td>0.500001</td>\n",
       "      <td>2017.00</td>\n",
       "      <td>2017.00</td>\n",
       "      <td>2017.50</td>\n",
       "      <td>2018.00</td>\n",
       "      <td>2018.00</td>\n",
       "    </tr>\n",
       "    <tr>\n",
       "      <th>Month</th>\n",
       "      <td>405624.0</td>\n",
       "      <td>6.500000</td>\n",
       "      <td>3.452057</td>\n",
       "      <td>1.00</td>\n",
       "      <td>3.75</td>\n",
       "      <td>6.50</td>\n",
       "      <td>9.25</td>\n",
       "      <td>12.00</td>\n",
       "    </tr>\n",
       "    <tr>\n",
       "      <th>Flights Booked</th>\n",
       "      <td>405624.0</td>\n",
       "      <td>4.115052</td>\n",
       "      <td>5.225518</td>\n",
       "      <td>0.00</td>\n",
       "      <td>0.00</td>\n",
       "      <td>1.00</td>\n",
       "      <td>8.00</td>\n",
       "      <td>21.00</td>\n",
       "    </tr>\n",
       "    <tr>\n",
       "      <th>Flights with Companions</th>\n",
       "      <td>405624.0</td>\n",
       "      <td>1.031805</td>\n",
       "      <td>2.076869</td>\n",
       "      <td>0.00</td>\n",
       "      <td>0.00</td>\n",
       "      <td>0.00</td>\n",
       "      <td>1.00</td>\n",
       "      <td>11.00</td>\n",
       "    </tr>\n",
       "    <tr>\n",
       "      <th>Total Flights</th>\n",
       "      <td>405624.0</td>\n",
       "      <td>5.146858</td>\n",
       "      <td>6.521227</td>\n",
       "      <td>0.00</td>\n",
       "      <td>0.00</td>\n",
       "      <td>1.00</td>\n",
       "      <td>10.00</td>\n",
       "      <td>32.00</td>\n",
       "    </tr>\n",
       "    <tr>\n",
       "      <th>Distance</th>\n",
       "      <td>405624.0</td>\n",
       "      <td>1208.880059</td>\n",
       "      <td>1433.155320</td>\n",
       "      <td>0.00</td>\n",
       "      <td>0.00</td>\n",
       "      <td>488.00</td>\n",
       "      <td>2336.00</td>\n",
       "      <td>6293.00</td>\n",
       "    </tr>\n",
       "    <tr>\n",
       "      <th>Points Accumulated</th>\n",
       "      <td>405624.0</td>\n",
       "      <td>123.692721</td>\n",
       "      <td>146.599831</td>\n",
       "      <td>0.00</td>\n",
       "      <td>0.00</td>\n",
       "      <td>50.00</td>\n",
       "      <td>239.00</td>\n",
       "      <td>676.50</td>\n",
       "    </tr>\n",
       "    <tr>\n",
       "      <th>Points Redeemed</th>\n",
       "      <td>405624.0</td>\n",
       "      <td>30.696872</td>\n",
       "      <td>125.486049</td>\n",
       "      <td>0.00</td>\n",
       "      <td>0.00</td>\n",
       "      <td>0.00</td>\n",
       "      <td>0.00</td>\n",
       "      <td>876.00</td>\n",
       "    </tr>\n",
       "    <tr>\n",
       "      <th>Dollar Cost Points Redeemed</th>\n",
       "      <td>405624.0</td>\n",
       "      <td>2.484503</td>\n",
       "      <td>10.150038</td>\n",
       "      <td>0.00</td>\n",
       "      <td>0.00</td>\n",
       "      <td>0.00</td>\n",
       "      <td>0.00</td>\n",
       "      <td>71.00</td>\n",
       "    </tr>\n",
       "    <tr>\n",
       "      <th>Salary</th>\n",
       "      <td>302952.0</td>\n",
       "      <td>79268.825953</td>\n",
       "      <td>34992.133508</td>\n",
       "      <td>-58486.00</td>\n",
       "      <td>59262.00</td>\n",
       "      <td>73479.00</td>\n",
       "      <td>88612.00</td>\n",
       "      <td>407228.00</td>\n",
       "    </tr>\n",
       "    <tr>\n",
       "      <th>CLV</th>\n",
       "      <td>405624.0</td>\n",
       "      <td>7991.976226</td>\n",
       "      <td>6863.663857</td>\n",
       "      <td>1898.01</td>\n",
       "      <td>3985.32</td>\n",
       "      <td>5776.34</td>\n",
       "      <td>8936.82</td>\n",
       "      <td>83325.38</td>\n",
       "    </tr>\n",
       "    <tr>\n",
       "      <th>Enrollment Year</th>\n",
       "      <td>405624.0</td>\n",
       "      <td>2015.252529</td>\n",
       "      <td>1.979427</td>\n",
       "      <td>2012.00</td>\n",
       "      <td>2014.00</td>\n",
       "      <td>2015.00</td>\n",
       "      <td>2017.00</td>\n",
       "      <td>2018.00</td>\n",
       "    </tr>\n",
       "    <tr>\n",
       "      <th>Enrollment Month</th>\n",
       "      <td>405624.0</td>\n",
       "      <td>6.668008</td>\n",
       "      <td>3.399766</td>\n",
       "      <td>1.00</td>\n",
       "      <td>4.00</td>\n",
       "      <td>7.00</td>\n",
       "      <td>10.00</td>\n",
       "      <td>12.00</td>\n",
       "    </tr>\n",
       "    <tr>\n",
       "      <th>Cancellation Year</th>\n",
       "      <td>50064.0</td>\n",
       "      <td>2016.499521</td>\n",
       "      <td>1.384336</td>\n",
       "      <td>2013.00</td>\n",
       "      <td>2016.00</td>\n",
       "      <td>2017.00</td>\n",
       "      <td>2018.00</td>\n",
       "      <td>2018.00</td>\n",
       "    </tr>\n",
       "    <tr>\n",
       "      <th>Cancellation Month</th>\n",
       "      <td>50064.0</td>\n",
       "      <td>6.966443</td>\n",
       "      <td>3.448300</td>\n",
       "      <td>1.00</td>\n",
       "      <td>4.00</td>\n",
       "      <td>7.00</td>\n",
       "      <td>10.00</td>\n",
       "      <td>12.00</td>\n",
       "    </tr>\n",
       "  </tbody>\n",
       "</table>\n",
       "</div>"
      ],
      "text/plain": [
       "                                count           mean            std  \\\n",
       "Loyalty Number               405624.0  550037.873084  258935.286969   \n",
       "Year                         405624.0    2017.500000       0.500001   \n",
       "Month                        405624.0       6.500000       3.452057   \n",
       "Flights Booked               405624.0       4.115052       5.225518   \n",
       "Flights with Companions      405624.0       1.031805       2.076869   \n",
       "Total Flights                405624.0       5.146858       6.521227   \n",
       "Distance                     405624.0    1208.880059    1433.155320   \n",
       "Points Accumulated           405624.0     123.692721     146.599831   \n",
       "Points Redeemed              405624.0      30.696872     125.486049   \n",
       "Dollar Cost Points Redeemed  405624.0       2.484503      10.150038   \n",
       "Salary                       302952.0   79268.825953   34992.133508   \n",
       "CLV                          405624.0    7991.976226    6863.663857   \n",
       "Enrollment Year              405624.0    2015.252529       1.979427   \n",
       "Enrollment Month             405624.0       6.668008       3.399766   \n",
       "Cancellation Year             50064.0    2016.499521       1.384336   \n",
       "Cancellation Month            50064.0       6.966443       3.448300   \n",
       "\n",
       "                                   min        25%        50%        75%  \\\n",
       "Loyalty Number               100018.00  326961.00  550834.00  772194.00   \n",
       "Year                           2017.00    2017.00    2017.50    2018.00   \n",
       "Month                             1.00       3.75       6.50       9.25   \n",
       "Flights Booked                    0.00       0.00       1.00       8.00   \n",
       "Flights with Companions           0.00       0.00       0.00       1.00   \n",
       "Total Flights                     0.00       0.00       1.00      10.00   \n",
       "Distance                          0.00       0.00     488.00    2336.00   \n",
       "Points Accumulated                0.00       0.00      50.00     239.00   \n",
       "Points Redeemed                   0.00       0.00       0.00       0.00   \n",
       "Dollar Cost Points Redeemed       0.00       0.00       0.00       0.00   \n",
       "Salary                       -58486.00   59262.00   73479.00   88612.00   \n",
       "CLV                            1898.01    3985.32    5776.34    8936.82   \n",
       "Enrollment Year                2012.00    2014.00    2015.00    2017.00   \n",
       "Enrollment Month                  1.00       4.00       7.00      10.00   \n",
       "Cancellation Year              2013.00    2016.00    2017.00    2018.00   \n",
       "Cancellation Month                1.00       4.00       7.00      10.00   \n",
       "\n",
       "                                   max  \n",
       "Loyalty Number               999986.00  \n",
       "Year                           2018.00  \n",
       "Month                            12.00  \n",
       "Flights Booked                   21.00  \n",
       "Flights with Companions          11.00  \n",
       "Total Flights                    32.00  \n",
       "Distance                       6293.00  \n",
       "Points Accumulated              676.50  \n",
       "Points Redeemed                 876.00  \n",
       "Dollar Cost Points Redeemed      71.00  \n",
       "Salary                       407228.00  \n",
       "CLV                           83325.38  \n",
       "Enrollment Year                2018.00  \n",
       "Enrollment Month                 12.00  \n",
       "Cancellation Year              2018.00  \n",
       "Cancellation Month               12.00  "
      ]
     },
     "execution_count": 17,
     "metadata": {},
     "output_type": "execute_result"
    }
   ],
   "source": [
    "df_customers.describe().T"
   ]
  },
  {
   "cell_type": "code",
   "execution_count": 18,
   "metadata": {},
   "outputs": [
    {
     "data": {
      "text/plain": [
       "-58486.0"
      ]
     },
     "execution_count": 18,
     "metadata": {},
     "output_type": "execute_result"
    }
   ],
   "source": [
    "df_customers['Salary'].min()"
   ]
  },
  {
   "cell_type": "markdown",
   "metadata": {},
   "source": [
    "**Observaciones:**\n",
    "\n",
    "> **(1)** Algunas columnas podrían unirse, y el tipo de dato de algunas columnas podría ser susceptible de ser cambiado:\n",
    "\n",
    ">    - ¿'Enrollment Year' y 'Enrollment Month' (int64) a una y/o de tipo object/date?\n",
    "\n",
    ">    - ¿'Salary' (float64) a int64?\n",
    "\n",
    ">    - ¿'Year' y 'Month' (int64) a una de tipo object/date?\n",
    "\n",
    ">    - ¿'Cancellation Year' y 'Cancellation Month' (float64) a una de tipo object/date?\n",
    "\n",
    ">    - La columna **'Country'** tiene un valor único\n",
    "\n",
    "> **(2)** 'Salary' tiene una desviación estándar muy elevada, y valores negativos.\n",
    "\n",
    "> **(3)** Hay 1864 entradas duplicadas.\n",
    "\n",
    "> **(4)** Las columnas **'Salary'**, **'Cancellation Year'** y **'Cancellation Month'** tienen valores nulos, y conocemos la cantidad y porcentaje de los mismos."
   ]
  },
  {
   "cell_type": "markdown",
   "metadata": {},
   "source": [
    "> ***<u>Toma de decisiones por cada una de las observaciones, a continuación:</u>***"
   ]
  },
  {
   "cell_type": "markdown",
   "metadata": {},
   "source": [
    "### 1.2. **Data Cleaning**"
   ]
  },
  {
   "cell_type": "markdown",
   "metadata": {},
   "source": [
    "#### **Atypical Values, Data Types and Modifications**"
   ]
  },
  {
   "cell_type": "markdown",
   "metadata": {},
   "source": [
    "> **(1)** Algunas columnas podrían unirse, y el tipo de dato de algunas columnas podría ser susceptible de ser cambiado:\n",
    "\n",
    "- ¿'Enrollment Year' y 'Enrollment Month' (int64) a una y/o de tipo object/date?\n",
    "\n",
    "- ¿'Salary' (float64) a int64? => *No hasta que no gestionemos los nulos.*\n",
    "\n",
    "- ¿'Year' y 'Month' (int64) a una de tipo object/date? => *No, porque lo necesitaremos en este formato más adelante para la visualización.*\n",
    "\n",
    "- ¿'Cancellation Year' y 'Cancellation Month' (float64) a una de tipo object/date? => *No hasta que no gestionemos los nulos.*\n",
    "\n",
    "- La columna **'Country'** tiene un valor único: \"Canada\" => *Decidimos mantener esta columna, por si fuera relevante el país en algún punto de nuestro análisis.*"
   ]
  },
  {
   "cell_type": "markdown",
   "metadata": {},
   "source": [
    "> *Convertimos 'Enrollment Year' y 'Enrollment Month' en una sola columna llamada **'Enrollment Date'**.*"
   ]
  },
  {
   "cell_type": "code",
   "execution_count": 19,
   "metadata": {},
   "outputs": [
    {
     "data": {
      "text/plain": [
       "Index(['Loyalty Number', 'Year', 'Month', 'Flights Booked',\n",
       "       'Flights with Companions', 'Total Flights', 'Distance',\n",
       "       'Points Accumulated', 'Points Redeemed', 'Dollar Cost Points Redeemed',\n",
       "       'Country', 'Province', 'City', 'Postal Code', 'Gender', 'Education',\n",
       "       'Salary', 'Marital Status', 'Loyalty Card', 'CLV', 'Enrollment Type',\n",
       "       'Enrollment Date', 'Cancellation Year', 'Cancellation Month'],\n",
       "      dtype='object')"
      ]
     },
     "execution_count": 19,
     "metadata": {},
     "output_type": "execute_result"
    }
   ],
   "source": [
    "# Creamos la nueva columna y la insertamos directamente en la posición que queremos:\n",
    "\n",
    "df_customers.insert(21, 'Enrollment Date', df_customers[['Enrollment Year', 'Enrollment Month']].astype(str).agg('-'.join, axis=1))\n",
    "\n",
    "\n",
    "# Eliminamos las dos columnas originales:\n",
    "\n",
    "df_customers.drop(['Enrollment Year', 'Enrollment Month'], axis=1, inplace=True)\n",
    "\n",
    "\n",
    "# Comprobamos los cambios:\n",
    "\n",
    "df_customers.columns"
   ]
  },
  {
   "cell_type": "markdown",
   "metadata": {},
   "source": [
    "> **(2)** Tomamos una decisión con respecto a **'Salary'** (tenía una desviación estándar muy elevada, y valores negativos):\n",
    "\n",
    ">   - *Transformaremos los valores negativos en nulos, ya que de todos modos tenemos un porcentaje elevado de nulos, y no podemos dejar los valores negativos, pues podrían impactar negativamente la distribución de esta variable.*\n",
    "\n",
    ">   - Para ello, comprobaremos también que no altera excesivamente el porcentaje de nulos que ya tenemos en el DataFrame."
   ]
  },
  {
   "cell_type": "code",
   "execution_count": 20,
   "metadata": {},
   "outputs": [
    {
     "name": "stdout",
     "output_type": "stream",
     "text": [
      "El recuento de valores cuyo \"Salary\" es negativo, es: 480.\n",
      "------------------------------------------------------------------------------------\n",
      "Los \"Loyalty Number\" a los que hay asociado un salario negativo son: [115505 152016 194065 212128 232755 239955 347013 364596 366599 430398\n",
      " 436087 491242 525245 542976 603070 729561 734647 790475 906428 959977].\n"
     ]
    }
   ],
   "source": [
    "# Creamos una máscara para filtrar todos los valores de 'Salary' quee sean negativos:\n",
    "\n",
    "negative_salary = df_customers[df_customers['Salary'] < 0]\n",
    "\n",
    "\n",
    "# Y comprobamos a qué 'Loyalty Number' están asociados:\n",
    "negative_salary_ids = negative_salary['Loyalty Number'].unique()\n",
    "\n",
    "\n",
    "print(f'El recuento de valores cuyo \"Salary\" es negativo, es: {negative_salary.shape[0]}.')\n",
    "print('------------------------------------------------------------------------------------')\n",
    "print(f'Los \"Loyalty Number\" a los que hay asociado un salario negativo son: {negative_salary_ids}.')\n"
   ]
  },
  {
   "cell_type": "code",
   "execution_count": 21,
   "metadata": {},
   "outputs": [
    {
     "data": {
      "text/html": [
       "<div>\n",
       "<style scoped>\n",
       "    .dataframe tbody tr th:only-of-type {\n",
       "        vertical-align: middle;\n",
       "    }\n",
       "\n",
       "    .dataframe tbody tr th {\n",
       "        vertical-align: top;\n",
       "    }\n",
       "\n",
       "    .dataframe thead th {\n",
       "        text-align: right;\n",
       "    }\n",
       "</style>\n",
       "<table border=\"1\" class=\"dataframe\">\n",
       "  <thead>\n",
       "    <tr style=\"text-align: right;\">\n",
       "      <th></th>\n",
       "      <th>Loyalty Number</th>\n",
       "      <th>Year</th>\n",
       "      <th>Month</th>\n",
       "      <th>Flights Booked</th>\n",
       "      <th>Flights with Companions</th>\n",
       "      <th>Total Flights</th>\n",
       "      <th>Distance</th>\n",
       "      <th>Points Accumulated</th>\n",
       "      <th>Points Redeemed</th>\n",
       "      <th>Dollar Cost Points Redeemed</th>\n",
       "      <th>Country</th>\n",
       "      <th>Province</th>\n",
       "      <th>City</th>\n",
       "      <th>Postal Code</th>\n",
       "      <th>Gender</th>\n",
       "      <th>Education</th>\n",
       "      <th>Salary</th>\n",
       "      <th>Marital Status</th>\n",
       "      <th>Loyalty Card</th>\n",
       "      <th>CLV</th>\n",
       "      <th>Enrollment Type</th>\n",
       "      <th>Enrollment Date</th>\n",
       "      <th>Cancellation Year</th>\n",
       "      <th>Cancellation Month</th>\n",
       "    </tr>\n",
       "  </thead>\n",
       "  <tbody>\n",
       "  </tbody>\n",
       "</table>\n",
       "</div>"
      ],
      "text/plain": [
       "Empty DataFrame\n",
       "Columns: [Loyalty Number, Year, Month, Flights Booked, Flights with Companions, Total Flights, Distance, Points Accumulated, Points Redeemed, Dollar Cost Points Redeemed, Country, Province, City, Postal Code, Gender, Education, Salary, Marital Status, Loyalty Card, CLV, Enrollment Type, Enrollment Date, Cancellation Year, Cancellation Month]\n",
       "Index: []"
      ]
     },
     "execution_count": 21,
     "metadata": {},
     "output_type": "execute_result"
    }
   ],
   "source": [
    "# Sustituimos estos valores negativos por nulos:\n",
    "\n",
    "df_customers.loc[df_customers['Loyalty Number'].isin(negative_salary_ids), 'Salary'] = np.nan \n",
    "\n",
    "\n",
    "# Y comprobamos que ya no existen 'Loyalty Number' cuyos 'Salary' sean negativos:\n",
    "\n",
    "df_customers[df_customers['Salary'] < 0]"
   ]
  },
  {
   "cell_type": "code",
   "execution_count": 22,
   "metadata": {},
   "outputs": [
    {
     "name": "stdout",
     "output_type": "stream",
     "text": [
      "El porcentaje final de nulos de \"Salary\" tras transformar los valores negativos en nulos es: 25.430447902490975.\n"
     ]
    }
   ],
   "source": [
    "salary_nulls_after_changes = df_customers['Salary'].isnull().sum()\n",
    "salary_final_nulls_percentage = salary_nulls_after_changes/df_customers.shape[0]*100\n",
    "\n",
    "print(f'El porcentaje final de nulos de \"Salary\" tras transformar los valores negativos en nulos es: {salary_final_nulls_percentage}.')"
   ]
  },
  {
   "cell_type": "markdown",
   "metadata": {},
   "source": [
    "**Conclusión:**\n",
    "> El nuevo porcentaje de nulos de 'Salary' (25.43%) no varía significativamente (originalmente era del 25.31%), por lo que decidimos mantener esta solución."
   ]
  },
  {
   "cell_type": "markdown",
   "metadata": {},
   "source": [
    "#### **Duplicates Management**\n",
    "> **(3)** Hay 1864 entradas duplicadas."
   ]
  },
  {
   "cell_type": "markdown",
   "metadata": {},
   "source": [
    "Comprobamos si son duplicados que debemos mantener (como el número de 'Loyalty Number' repetidos) o si, por el contrario, hay filas enteras de valores duplicadas, susceptibles de ser eliminadas:"
   ]
  },
  {
   "cell_type": "code",
   "execution_count": 23,
   "metadata": {},
   "outputs": [
    {
     "data": {
      "text/html": [
       "<div>\n",
       "<style scoped>\n",
       "    .dataframe tbody tr th:only-of-type {\n",
       "        vertical-align: middle;\n",
       "    }\n",
       "\n",
       "    .dataframe tbody tr th {\n",
       "        vertical-align: top;\n",
       "    }\n",
       "\n",
       "    .dataframe thead th {\n",
       "        text-align: right;\n",
       "    }\n",
       "</style>\n",
       "<table border=\"1\" class=\"dataframe\">\n",
       "  <thead>\n",
       "    <tr style=\"text-align: right;\">\n",
       "      <th></th>\n",
       "      <th>Loyalty Number</th>\n",
       "      <th>Year</th>\n",
       "      <th>Month</th>\n",
       "      <th>Flights Booked</th>\n",
       "      <th>Flights with Companions</th>\n",
       "      <th>Total Flights</th>\n",
       "      <th>Distance</th>\n",
       "      <th>Points Accumulated</th>\n",
       "      <th>Points Redeemed</th>\n",
       "      <th>Dollar Cost Points Redeemed</th>\n",
       "      <th>Country</th>\n",
       "      <th>Province</th>\n",
       "      <th>City</th>\n",
       "      <th>Postal Code</th>\n",
       "      <th>Gender</th>\n",
       "      <th>Education</th>\n",
       "      <th>Salary</th>\n",
       "      <th>Marital Status</th>\n",
       "      <th>Loyalty Card</th>\n",
       "      <th>CLV</th>\n",
       "      <th>Enrollment Type</th>\n",
       "      <th>Enrollment Date</th>\n",
       "      <th>Cancellation Year</th>\n",
       "      <th>Cancellation Month</th>\n",
       "    </tr>\n",
       "  </thead>\n",
       "  <tbody>\n",
       "    <tr>\n",
       "      <th>984</th>\n",
       "      <td>101902</td>\n",
       "      <td>2017</td>\n",
       "      <td>1</td>\n",
       "      <td>0</td>\n",
       "      <td>0</td>\n",
       "      <td>0</td>\n",
       "      <td>0</td>\n",
       "      <td>0.0</td>\n",
       "      <td>0</td>\n",
       "      <td>0</td>\n",
       "      <td>Canada</td>\n",
       "      <td>Ontario</td>\n",
       "      <td>London</td>\n",
       "      <td>M5B 3E4</td>\n",
       "      <td>Female</td>\n",
       "      <td>College</td>\n",
       "      <td>NaN</td>\n",
       "      <td>Married</td>\n",
       "      <td>Aurora</td>\n",
       "      <td>6265.34</td>\n",
       "      <td>Standard</td>\n",
       "      <td>2017-1</td>\n",
       "      <td>NaN</td>\n",
       "      <td>NaN</td>\n",
       "    </tr>\n",
       "    <tr>\n",
       "      <th>985</th>\n",
       "      <td>101902</td>\n",
       "      <td>2017</td>\n",
       "      <td>1</td>\n",
       "      <td>0</td>\n",
       "      <td>0</td>\n",
       "      <td>0</td>\n",
       "      <td>0</td>\n",
       "      <td>0.0</td>\n",
       "      <td>0</td>\n",
       "      <td>0</td>\n",
       "      <td>Canada</td>\n",
       "      <td>Ontario</td>\n",
       "      <td>London</td>\n",
       "      <td>M5B 3E4</td>\n",
       "      <td>Female</td>\n",
       "      <td>College</td>\n",
       "      <td>NaN</td>\n",
       "      <td>Married</td>\n",
       "      <td>Aurora</td>\n",
       "      <td>6265.34</td>\n",
       "      <td>Standard</td>\n",
       "      <td>2017-1</td>\n",
       "      <td>NaN</td>\n",
       "      <td>NaN</td>\n",
       "    </tr>\n",
       "    <tr>\n",
       "      <th>987</th>\n",
       "      <td>101902</td>\n",
       "      <td>2017</td>\n",
       "      <td>2</td>\n",
       "      <td>0</td>\n",
       "      <td>0</td>\n",
       "      <td>0</td>\n",
       "      <td>0</td>\n",
       "      <td>0.0</td>\n",
       "      <td>0</td>\n",
       "      <td>0</td>\n",
       "      <td>Canada</td>\n",
       "      <td>Ontario</td>\n",
       "      <td>London</td>\n",
       "      <td>M5B 3E4</td>\n",
       "      <td>Female</td>\n",
       "      <td>College</td>\n",
       "      <td>NaN</td>\n",
       "      <td>Married</td>\n",
       "      <td>Aurora</td>\n",
       "      <td>6265.34</td>\n",
       "      <td>Standard</td>\n",
       "      <td>2017-1</td>\n",
       "      <td>NaN</td>\n",
       "      <td>NaN</td>\n",
       "    </tr>\n",
       "    <tr>\n",
       "      <th>988</th>\n",
       "      <td>101902</td>\n",
       "      <td>2017</td>\n",
       "      <td>2</td>\n",
       "      <td>0</td>\n",
       "      <td>0</td>\n",
       "      <td>0</td>\n",
       "      <td>0</td>\n",
       "      <td>0.0</td>\n",
       "      <td>0</td>\n",
       "      <td>0</td>\n",
       "      <td>Canada</td>\n",
       "      <td>Ontario</td>\n",
       "      <td>London</td>\n",
       "      <td>M5B 3E4</td>\n",
       "      <td>Female</td>\n",
       "      <td>College</td>\n",
       "      <td>NaN</td>\n",
       "      <td>Married</td>\n",
       "      <td>Aurora</td>\n",
       "      <td>6265.34</td>\n",
       "      <td>Standard</td>\n",
       "      <td>2017-1</td>\n",
       "      <td>NaN</td>\n",
       "      <td>NaN</td>\n",
       "    </tr>\n",
       "    <tr>\n",
       "      <th>989</th>\n",
       "      <td>101902</td>\n",
       "      <td>2017</td>\n",
       "      <td>3</td>\n",
       "      <td>0</td>\n",
       "      <td>0</td>\n",
       "      <td>0</td>\n",
       "      <td>0</td>\n",
       "      <td>0.0</td>\n",
       "      <td>0</td>\n",
       "      <td>0</td>\n",
       "      <td>Canada</td>\n",
       "      <td>Ontario</td>\n",
       "      <td>London</td>\n",
       "      <td>M5B 3E4</td>\n",
       "      <td>Female</td>\n",
       "      <td>College</td>\n",
       "      <td>NaN</td>\n",
       "      <td>Married</td>\n",
       "      <td>Aurora</td>\n",
       "      <td>6265.34</td>\n",
       "      <td>Standard</td>\n",
       "      <td>2017-1</td>\n",
       "      <td>NaN</td>\n",
       "      <td>NaN</td>\n",
       "    </tr>\n",
       "    <tr>\n",
       "      <th>...</th>\n",
       "      <td>...</td>\n",
       "      <td>...</td>\n",
       "      <td>...</td>\n",
       "      <td>...</td>\n",
       "      <td>...</td>\n",
       "      <td>...</td>\n",
       "      <td>...</td>\n",
       "      <td>...</td>\n",
       "      <td>...</td>\n",
       "      <td>...</td>\n",
       "      <td>...</td>\n",
       "      <td>...</td>\n",
       "      <td>...</td>\n",
       "      <td>...</td>\n",
       "      <td>...</td>\n",
       "      <td>...</td>\n",
       "      <td>...</td>\n",
       "      <td>...</td>\n",
       "      <td>...</td>\n",
       "      <td>...</td>\n",
       "      <td>...</td>\n",
       "      <td>...</td>\n",
       "      <td>...</td>\n",
       "      <td>...</td>\n",
       "    </tr>\n",
       "    <tr>\n",
       "      <th>402331</th>\n",
       "      <td>992168</td>\n",
       "      <td>2017</td>\n",
       "      <td>9</td>\n",
       "      <td>0</td>\n",
       "      <td>0</td>\n",
       "      <td>0</td>\n",
       "      <td>0</td>\n",
       "      <td>0.0</td>\n",
       "      <td>0</td>\n",
       "      <td>0</td>\n",
       "      <td>Canada</td>\n",
       "      <td>Ontario</td>\n",
       "      <td>Toronto</td>\n",
       "      <td>P1J 8T7</td>\n",
       "      <td>Male</td>\n",
       "      <td>High School or Below</td>\n",
       "      <td>66386.0</td>\n",
       "      <td>Married</td>\n",
       "      <td>Nova</td>\n",
       "      <td>5746.33</td>\n",
       "      <td>Standard</td>\n",
       "      <td>2012-9</td>\n",
       "      <td>NaN</td>\n",
       "      <td>NaN</td>\n",
       "    </tr>\n",
       "    <tr>\n",
       "      <th>402346</th>\n",
       "      <td>992168</td>\n",
       "      <td>2018</td>\n",
       "      <td>6</td>\n",
       "      <td>0</td>\n",
       "      <td>0</td>\n",
       "      <td>0</td>\n",
       "      <td>0</td>\n",
       "      <td>0.0</td>\n",
       "      <td>0</td>\n",
       "      <td>0</td>\n",
       "      <td>Canada</td>\n",
       "      <td>Ontario</td>\n",
       "      <td>Toronto</td>\n",
       "      <td>P1J 8T7</td>\n",
       "      <td>Male</td>\n",
       "      <td>High School or Below</td>\n",
       "      <td>66386.0</td>\n",
       "      <td>Married</td>\n",
       "      <td>Nova</td>\n",
       "      <td>5746.33</td>\n",
       "      <td>Standard</td>\n",
       "      <td>2012-9</td>\n",
       "      <td>NaN</td>\n",
       "      <td>NaN</td>\n",
       "    </tr>\n",
       "    <tr>\n",
       "      <th>402347</th>\n",
       "      <td>992168</td>\n",
       "      <td>2018</td>\n",
       "      <td>6</td>\n",
       "      <td>0</td>\n",
       "      <td>0</td>\n",
       "      <td>0</td>\n",
       "      <td>0</td>\n",
       "      <td>0.0</td>\n",
       "      <td>0</td>\n",
       "      <td>0</td>\n",
       "      <td>Canada</td>\n",
       "      <td>Ontario</td>\n",
       "      <td>Toronto</td>\n",
       "      <td>P1J 8T7</td>\n",
       "      <td>Male</td>\n",
       "      <td>High School or Below</td>\n",
       "      <td>66386.0</td>\n",
       "      <td>Married</td>\n",
       "      <td>Nova</td>\n",
       "      <td>5746.33</td>\n",
       "      <td>Standard</td>\n",
       "      <td>2012-9</td>\n",
       "      <td>NaN</td>\n",
       "      <td>NaN</td>\n",
       "    </tr>\n",
       "    <tr>\n",
       "      <th>402354</th>\n",
       "      <td>992168</td>\n",
       "      <td>2018</td>\n",
       "      <td>9</td>\n",
       "      <td>0</td>\n",
       "      <td>0</td>\n",
       "      <td>0</td>\n",
       "      <td>0</td>\n",
       "      <td>0.0</td>\n",
       "      <td>0</td>\n",
       "      <td>0</td>\n",
       "      <td>Canada</td>\n",
       "      <td>Ontario</td>\n",
       "      <td>Toronto</td>\n",
       "      <td>P1J 8T7</td>\n",
       "      <td>Male</td>\n",
       "      <td>High School or Below</td>\n",
       "      <td>66386.0</td>\n",
       "      <td>Married</td>\n",
       "      <td>Nova</td>\n",
       "      <td>5746.33</td>\n",
       "      <td>Standard</td>\n",
       "      <td>2012-9</td>\n",
       "      <td>NaN</td>\n",
       "      <td>NaN</td>\n",
       "    </tr>\n",
       "    <tr>\n",
       "      <th>402355</th>\n",
       "      <td>992168</td>\n",
       "      <td>2018</td>\n",
       "      <td>9</td>\n",
       "      <td>0</td>\n",
       "      <td>0</td>\n",
       "      <td>0</td>\n",
       "      <td>0</td>\n",
       "      <td>0.0</td>\n",
       "      <td>0</td>\n",
       "      <td>0</td>\n",
       "      <td>Canada</td>\n",
       "      <td>Ontario</td>\n",
       "      <td>Toronto</td>\n",
       "      <td>P1J 8T7</td>\n",
       "      <td>Male</td>\n",
       "      <td>High School or Below</td>\n",
       "      <td>66386.0</td>\n",
       "      <td>Married</td>\n",
       "      <td>Nova</td>\n",
       "      <td>5746.33</td>\n",
       "      <td>Standard</td>\n",
       "      <td>2012-9</td>\n",
       "      <td>NaN</td>\n",
       "      <td>NaN</td>\n",
       "    </tr>\n",
       "  </tbody>\n",
       "</table>\n",
       "<p>3712 rows × 24 columns</p>\n",
       "</div>"
      ],
      "text/plain": [
       "        Loyalty Number  Year  Month  Flights Booked  Flights with Companions  \\\n",
       "984             101902  2017      1               0                        0   \n",
       "985             101902  2017      1               0                        0   \n",
       "987             101902  2017      2               0                        0   \n",
       "988             101902  2017      2               0                        0   \n",
       "989             101902  2017      3               0                        0   \n",
       "...                ...   ...    ...             ...                      ...   \n",
       "402331          992168  2017      9               0                        0   \n",
       "402346          992168  2018      6               0                        0   \n",
       "402347          992168  2018      6               0                        0   \n",
       "402354          992168  2018      9               0                        0   \n",
       "402355          992168  2018      9               0                        0   \n",
       "\n",
       "        Total Flights  Distance  Points Accumulated  Points Redeemed  \\\n",
       "984                 0         0                 0.0                0   \n",
       "985                 0         0                 0.0                0   \n",
       "987                 0         0                 0.0                0   \n",
       "988                 0         0                 0.0                0   \n",
       "989                 0         0                 0.0                0   \n",
       "...               ...       ...                 ...              ...   \n",
       "402331              0         0                 0.0                0   \n",
       "402346              0         0                 0.0                0   \n",
       "402347              0         0                 0.0                0   \n",
       "402354              0         0                 0.0                0   \n",
       "402355              0         0                 0.0                0   \n",
       "\n",
       "        Dollar Cost Points Redeemed Country Province     City Postal Code  \\\n",
       "984                               0  Canada  Ontario   London     M5B 3E4   \n",
       "985                               0  Canada  Ontario   London     M5B 3E4   \n",
       "987                               0  Canada  Ontario   London     M5B 3E4   \n",
       "988                               0  Canada  Ontario   London     M5B 3E4   \n",
       "989                               0  Canada  Ontario   London     M5B 3E4   \n",
       "...                             ...     ...      ...      ...         ...   \n",
       "402331                            0  Canada  Ontario  Toronto     P1J 8T7   \n",
       "402346                            0  Canada  Ontario  Toronto     P1J 8T7   \n",
       "402347                            0  Canada  Ontario  Toronto     P1J 8T7   \n",
       "402354                            0  Canada  Ontario  Toronto     P1J 8T7   \n",
       "402355                            0  Canada  Ontario  Toronto     P1J 8T7   \n",
       "\n",
       "        Gender             Education   Salary Marital Status Loyalty Card  \\\n",
       "984     Female               College      NaN        Married       Aurora   \n",
       "985     Female               College      NaN        Married       Aurora   \n",
       "987     Female               College      NaN        Married       Aurora   \n",
       "988     Female               College      NaN        Married       Aurora   \n",
       "989     Female               College      NaN        Married       Aurora   \n",
       "...        ...                   ...      ...            ...          ...   \n",
       "402331    Male  High School or Below  66386.0        Married         Nova   \n",
       "402346    Male  High School or Below  66386.0        Married         Nova   \n",
       "402347    Male  High School or Below  66386.0        Married         Nova   \n",
       "402354    Male  High School or Below  66386.0        Married         Nova   \n",
       "402355    Male  High School or Below  66386.0        Married         Nova   \n",
       "\n",
       "            CLV Enrollment Type Enrollment Date  Cancellation Year  \\\n",
       "984     6265.34        Standard          2017-1                NaN   \n",
       "985     6265.34        Standard          2017-1                NaN   \n",
       "987     6265.34        Standard          2017-1                NaN   \n",
       "988     6265.34        Standard          2017-1                NaN   \n",
       "989     6265.34        Standard          2017-1                NaN   \n",
       "...         ...             ...             ...                ...   \n",
       "402331  5746.33        Standard          2012-9                NaN   \n",
       "402346  5746.33        Standard          2012-9                NaN   \n",
       "402347  5746.33        Standard          2012-9                NaN   \n",
       "402354  5746.33        Standard          2012-9                NaN   \n",
       "402355  5746.33        Standard          2012-9                NaN   \n",
       "\n",
       "        Cancellation Month  \n",
       "984                    NaN  \n",
       "985                    NaN  \n",
       "987                    NaN  \n",
       "988                    NaN  \n",
       "989                    NaN  \n",
       "...                    ...  \n",
       "402331                 NaN  \n",
       "402346                 NaN  \n",
       "402347                 NaN  \n",
       "402354                 NaN  \n",
       "402355                 NaN  \n",
       "\n",
       "[3712 rows x 24 columns]"
      ]
     },
     "execution_count": 23,
     "metadata": {},
     "output_type": "execute_result"
    }
   ],
   "source": [
    "# Creamos una máscara para ver los duplicados (TODAS sus apariciones, incluida la \"original\") y revisarlos manualmente:\n",
    "\n",
    "duplicates = df_customers[df_customers.duplicated(keep=False)]\n",
    "duplicates"
   ]
  },
  {
   "cell_type": "markdown",
   "metadata": {},
   "source": [
    "**Conclusión:**\n",
    "> Muchas de esas filas enteras están duplicadas, por lo que decidimos mantener su primera aparición y borrar el resto."
   ]
  },
  {
   "cell_type": "code",
   "execution_count": 24,
   "metadata": {},
   "outputs": [],
   "source": [
    "# Eliminamos las sucesivas apariciones:\n",
    "\n",
    "df_customers = df_customers.drop_duplicates(keep='first')"
   ]
  },
  {
   "cell_type": "markdown",
   "metadata": {},
   "source": [
    "Comprobamos que ya no hay filas duplicadas:"
   ]
  },
  {
   "cell_type": "code",
   "execution_count": 25,
   "metadata": {},
   "outputs": [
    {
     "data": {
      "text/plain": [
       "0"
      ]
     },
     "execution_count": 25,
     "metadata": {},
     "output_type": "execute_result"
    }
   ],
   "source": [
    "df_customers.duplicated().sum()"
   ]
  },
  {
   "cell_type": "markdown",
   "metadata": {},
   "source": [
    "#### **Nulls Management**"
   ]
  },
  {
   "cell_type": "markdown",
   "metadata": {},
   "source": [
    "> **(4)** Las columnas **'Salary'**, **'Cancellation Year'** y **'Cancellation Month'** tienen valores nulos, y conocemos la cantidad y porcentaje de los mismos."
   ]
  },
  {
   "cell_type": "markdown",
   "metadata": {},
   "source": [
    "##### Columnas **'Cancellation Year'** y **'Cancellation Month'**:\n",
    "> *Decidimos convertir los datos que sí tienen valores (ahora mismo de tipo 'float') en 'object', juntar ambas columnas en una denominada 'Cancellation Date', y en aquellas entradas con valores nulos, los sustituiremos por 'Unknown', ya que desconocemos si son membresías que no han sido canceladas (y que por tanto se encuentran activas), o si por el contrario falta información (y preferimos no asumir que simplemente siguen activas).*"
   ]
  },
  {
   "cell_type": "code",
   "execution_count": 26,
   "metadata": {},
   "outputs": [
    {
     "data": {
      "text/html": [
       "<div>\n",
       "<style scoped>\n",
       "    .dataframe tbody tr th:only-of-type {\n",
       "        vertical-align: middle;\n",
       "    }\n",
       "\n",
       "    .dataframe tbody tr th {\n",
       "        vertical-align: top;\n",
       "    }\n",
       "\n",
       "    .dataframe thead th {\n",
       "        text-align: right;\n",
       "    }\n",
       "</style>\n",
       "<table border=\"1\" class=\"dataframe\">\n",
       "  <thead>\n",
       "    <tr style=\"text-align: right;\">\n",
       "      <th></th>\n",
       "      <th>Loyalty Number</th>\n",
       "      <th>Year</th>\n",
       "      <th>Month</th>\n",
       "      <th>Flights Booked</th>\n",
       "      <th>Flights with Companions</th>\n",
       "      <th>Total Flights</th>\n",
       "      <th>Distance</th>\n",
       "      <th>Points Accumulated</th>\n",
       "      <th>Points Redeemed</th>\n",
       "      <th>Dollar Cost Points Redeemed</th>\n",
       "      <th>Country</th>\n",
       "      <th>Province</th>\n",
       "      <th>City</th>\n",
       "      <th>Postal Code</th>\n",
       "      <th>Gender</th>\n",
       "      <th>Education</th>\n",
       "      <th>Salary</th>\n",
       "      <th>Marital Status</th>\n",
       "      <th>Loyalty Card</th>\n",
       "      <th>CLV</th>\n",
       "      <th>Enrollment Type</th>\n",
       "      <th>Enrollment Date</th>\n",
       "      <th>Cancellation Date</th>\n",
       "    </tr>\n",
       "  </thead>\n",
       "  <tbody>\n",
       "    <tr>\n",
       "      <th>69761</th>\n",
       "      <td>256483</td>\n",
       "      <td>2018</td>\n",
       "      <td>6</td>\n",
       "      <td>0</td>\n",
       "      <td>0</td>\n",
       "      <td>0</td>\n",
       "      <td>0</td>\n",
       "      <td>0.0</td>\n",
       "      <td>0</td>\n",
       "      <td>0</td>\n",
       "      <td>Canada</td>\n",
       "      <td>British Columbia</td>\n",
       "      <td>Vancouver</td>\n",
       "      <td>V5R 1W3</td>\n",
       "      <td>Female</td>\n",
       "      <td>College</td>\n",
       "      <td>NaN</td>\n",
       "      <td>Married</td>\n",
       "      <td>Aurora</td>\n",
       "      <td>8647.14</td>\n",
       "      <td>Standard</td>\n",
       "      <td>2014-12</td>\n",
       "      <td>Unknown-Unknown</td>\n",
       "    </tr>\n",
       "    <tr>\n",
       "      <th>357503</th>\n",
       "      <td>892227</td>\n",
       "      <td>2018</td>\n",
       "      <td>12</td>\n",
       "      <td>0</td>\n",
       "      <td>0</td>\n",
       "      <td>0</td>\n",
       "      <td>0</td>\n",
       "      <td>0.0</td>\n",
       "      <td>0</td>\n",
       "      <td>0</td>\n",
       "      <td>Canada</td>\n",
       "      <td>British Columbia</td>\n",
       "      <td>Vancouver</td>\n",
       "      <td>V5R 1W3</td>\n",
       "      <td>Male</td>\n",
       "      <td>Doctor</td>\n",
       "      <td>141278.0</td>\n",
       "      <td>Married</td>\n",
       "      <td>Star</td>\n",
       "      <td>8693.63</td>\n",
       "      <td>Standard</td>\n",
       "      <td>2018-12</td>\n",
       "      <td>Unknown-Unknown</td>\n",
       "    </tr>\n",
       "    <tr>\n",
       "      <th>25787</th>\n",
       "      <td>158113</td>\n",
       "      <td>2018</td>\n",
       "      <td>1</td>\n",
       "      <td>3</td>\n",
       "      <td>2</td>\n",
       "      <td>5</td>\n",
       "      <td>905</td>\n",
       "      <td>90.0</td>\n",
       "      <td>0</td>\n",
       "      <td>0</td>\n",
       "      <td>Canada</td>\n",
       "      <td>Alberta</td>\n",
       "      <td>Calgary</td>\n",
       "      <td>T3E 2V9</td>\n",
       "      <td>Female</td>\n",
       "      <td>College</td>\n",
       "      <td>NaN</td>\n",
       "      <td>Single</td>\n",
       "      <td>Nova</td>\n",
       "      <td>9764.95</td>\n",
       "      <td>Standard</td>\n",
       "      <td>2012-6</td>\n",
       "      <td>Unknown-Unknown</td>\n",
       "    </tr>\n",
       "    <tr>\n",
       "      <th>334188</th>\n",
       "      <td>839263</td>\n",
       "      <td>2018</td>\n",
       "      <td>1</td>\n",
       "      <td>0</td>\n",
       "      <td>0</td>\n",
       "      <td>0</td>\n",
       "      <td>0</td>\n",
       "      <td>0.0</td>\n",
       "      <td>0</td>\n",
       "      <td>0</td>\n",
       "      <td>Canada</td>\n",
       "      <td>British Columbia</td>\n",
       "      <td>Vancouver</td>\n",
       "      <td>V5R 1W3</td>\n",
       "      <td>Male</td>\n",
       "      <td>Bachelor</td>\n",
       "      <td>91239.0</td>\n",
       "      <td>Married</td>\n",
       "      <td>Star</td>\n",
       "      <td>5838.90</td>\n",
       "      <td>Standard</td>\n",
       "      <td>2015-10</td>\n",
       "      <td>2018.0-12.0</td>\n",
       "    </tr>\n",
       "    <tr>\n",
       "      <th>233531</th>\n",
       "      <td>616722</td>\n",
       "      <td>2018</td>\n",
       "      <td>1</td>\n",
       "      <td>3</td>\n",
       "      <td>0</td>\n",
       "      <td>3</td>\n",
       "      <td>477</td>\n",
       "      <td>47.0</td>\n",
       "      <td>0</td>\n",
       "      <td>0</td>\n",
       "      <td>Canada</td>\n",
       "      <td>British Columbia</td>\n",
       "      <td>Dawson Creek</td>\n",
       "      <td>U5I 4F1</td>\n",
       "      <td>Male</td>\n",
       "      <td>Bachelor</td>\n",
       "      <td>89435.0</td>\n",
       "      <td>Divorced</td>\n",
       "      <td>Star</td>\n",
       "      <td>2619.34</td>\n",
       "      <td>Standard</td>\n",
       "      <td>2012-8</td>\n",
       "      <td>Unknown-Unknown</td>\n",
       "    </tr>\n",
       "  </tbody>\n",
       "</table>\n",
       "</div>"
      ],
      "text/plain": [
       "        Loyalty Number  Year  Month  Flights Booked  Flights with Companions  \\\n",
       "69761           256483  2018      6               0                        0   \n",
       "357503          892227  2018     12               0                        0   \n",
       "25787           158113  2018      1               3                        2   \n",
       "334188          839263  2018      1               0                        0   \n",
       "233531          616722  2018      1               3                        0   \n",
       "\n",
       "        Total Flights  Distance  Points Accumulated  Points Redeemed  \\\n",
       "69761               0         0                 0.0                0   \n",
       "357503              0         0                 0.0                0   \n",
       "25787               5       905                90.0                0   \n",
       "334188              0         0                 0.0                0   \n",
       "233531              3       477                47.0                0   \n",
       "\n",
       "        Dollar Cost Points Redeemed Country          Province          City  \\\n",
       "69761                             0  Canada  British Columbia     Vancouver   \n",
       "357503                            0  Canada  British Columbia     Vancouver   \n",
       "25787                             0  Canada           Alberta       Calgary   \n",
       "334188                            0  Canada  British Columbia     Vancouver   \n",
       "233531                            0  Canada  British Columbia  Dawson Creek   \n",
       "\n",
       "       Postal Code  Gender Education    Salary Marital Status Loyalty Card  \\\n",
       "69761      V5R 1W3  Female   College       NaN        Married       Aurora   \n",
       "357503     V5R 1W3    Male    Doctor  141278.0        Married         Star   \n",
       "25787      T3E 2V9  Female   College       NaN         Single         Nova   \n",
       "334188     V5R 1W3    Male  Bachelor   91239.0        Married         Star   \n",
       "233531     U5I 4F1    Male  Bachelor   89435.0       Divorced         Star   \n",
       "\n",
       "            CLV Enrollment Type Enrollment Date Cancellation Date  \n",
       "69761   8647.14        Standard         2014-12   Unknown-Unknown  \n",
       "357503  8693.63        Standard         2018-12   Unknown-Unknown  \n",
       "25787   9764.95        Standard          2012-6   Unknown-Unknown  \n",
       "334188  5838.90        Standard         2015-10       2018.0-12.0  \n",
       "233531  2619.34        Standard          2012-8   Unknown-Unknown  "
      ]
     },
     "execution_count": 26,
     "metadata": {},
     "output_type": "execute_result"
    }
   ],
   "source": [
    "# Primero cambiamos los nulos a 'Unknown':\n",
    "\n",
    "df_customers[['Cancellation Month', 'Cancellation Year']] = df_customers[['Cancellation Month', 'Cancellation Year']].fillna('Unknown')\n",
    "\n",
    "\n",
    "# En segundo lugar, creamos una nueva columna ('Cancellation Date') formada por ambas columnas originales, y las convertimos\n",
    "# a tipo 'object' para que el resto de datos también lo sean y todo esté cohesionado:\n",
    "\n",
    "df_customers['Cancellation Date'] = df_customers['Cancellation Year'].astype(str) + '-' + df_customers['Cancellation Month'].astype(str)\n",
    "\n",
    "\n",
    "# Finalmente, eliminamos las columnas originales:\n",
    "\n",
    "df_customers.drop(columns=['Cancellation Year', 'Cancellation Month'], inplace=True)\n",
    "\n",
    "\n",
    "# Y hacemos la comprobación de que todo ha quedado como esperábamos:\n",
    "df_customers.sample(5)"
   ]
  },
  {
   "cell_type": "code",
   "execution_count": 27,
   "metadata": {},
   "outputs": [],
   "source": [
    "# Limpiamos la columna 'Cancellation Date' para que quede más clara:\n",
    "\n",
    "    # Quitamos los '.0':\n",
    "df_customers['Cancellation Date'] = df_customers['Cancellation Date'].str.replace(r'\\.0', '', regex=True)\n",
    "\n",
    "    # Dejamos un solo 'Unknown':\n",
    "df_customers['Cancellation Date'] = df_customers['Cancellation Date'].replace('Unknown-Unknown', 'Unknown')"
   ]
  },
  {
   "cell_type": "markdown",
   "metadata": {},
   "source": [
    "Finalmente, calculamos que el porcentaje de 'Unknown' coincida con el porcentaje de nulos anterior, y que por tanto se han aplicado correctamente:\n",
    "> La sustitución de nulos por 'Unknown'\n",
    "\n",
    "> La unión de las columnas 'Cancellation Year' y 'Cancellation Month' en 'Cancellation Date'"
   ]
  },
  {
   "cell_type": "code",
   "execution_count": 28,
   "metadata": {},
   "outputs": [
    {
     "name": "stdout",
     "output_type": "stream",
     "text": [
      "El porcentaje de \"Unknown\" es: 87.70309094511592, lo que coincide con el porcentaje de nulos que teníamos anteriormente para las columnas \"Cancellation Month\" y \"Cancellation Year\" (87.7%).\n"
     ]
    },
    {
     "data": {
      "text/html": [
       "<div>\n",
       "<style scoped>\n",
       "    .dataframe tbody tr th:only-of-type {\n",
       "        vertical-align: middle;\n",
       "    }\n",
       "\n",
       "    .dataframe tbody tr th {\n",
       "        vertical-align: top;\n",
       "    }\n",
       "\n",
       "    .dataframe thead th {\n",
       "        text-align: right;\n",
       "    }\n",
       "</style>\n",
       "<table border=\"1\" class=\"dataframe\">\n",
       "  <thead>\n",
       "    <tr style=\"text-align: right;\">\n",
       "      <th></th>\n",
       "      <th>Loyalty Number</th>\n",
       "      <th>Year</th>\n",
       "      <th>Month</th>\n",
       "      <th>Flights Booked</th>\n",
       "      <th>Flights with Companions</th>\n",
       "      <th>Total Flights</th>\n",
       "      <th>Distance</th>\n",
       "      <th>Points Accumulated</th>\n",
       "      <th>Points Redeemed</th>\n",
       "      <th>Dollar Cost Points Redeemed</th>\n",
       "      <th>Country</th>\n",
       "      <th>Province</th>\n",
       "      <th>City</th>\n",
       "      <th>Postal Code</th>\n",
       "      <th>Gender</th>\n",
       "      <th>Education</th>\n",
       "      <th>Salary</th>\n",
       "      <th>Marital Status</th>\n",
       "      <th>Loyalty Card</th>\n",
       "      <th>CLV</th>\n",
       "      <th>Enrollment Type</th>\n",
       "      <th>Enrollment Date</th>\n",
       "      <th>Cancellation Date</th>\n",
       "    </tr>\n",
       "  </thead>\n",
       "  <tbody>\n",
       "    <tr>\n",
       "      <th>78125</th>\n",
       "      <td>274817</td>\n",
       "      <td>2017</td>\n",
       "      <td>7</td>\n",
       "      <td>9</td>\n",
       "      <td>0</td>\n",
       "      <td>9</td>\n",
       "      <td>3528</td>\n",
       "      <td>352.00</td>\n",
       "      <td>0</td>\n",
       "      <td>0</td>\n",
       "      <td>Canada</td>\n",
       "      <td>Ontario</td>\n",
       "      <td>Sudbury</td>\n",
       "      <td>M5V 1G5</td>\n",
       "      <td>Female</td>\n",
       "      <td>College</td>\n",
       "      <td>NaN</td>\n",
       "      <td>Single</td>\n",
       "      <td>Aurora</td>\n",
       "      <td>6511.10</td>\n",
       "      <td>Standard</td>\n",
       "      <td>2014-8</td>\n",
       "      <td>Unknown</td>\n",
       "    </tr>\n",
       "    <tr>\n",
       "      <th>357541</th>\n",
       "      <td>892273</td>\n",
       "      <td>2018</td>\n",
       "      <td>2</td>\n",
       "      <td>0</td>\n",
       "      <td>0</td>\n",
       "      <td>0</td>\n",
       "      <td>0</td>\n",
       "      <td>0.00</td>\n",
       "      <td>0</td>\n",
       "      <td>0</td>\n",
       "      <td>Canada</td>\n",
       "      <td>Ontario</td>\n",
       "      <td>Toronto</td>\n",
       "      <td>P5S 6R4</td>\n",
       "      <td>Female</td>\n",
       "      <td>College</td>\n",
       "      <td>NaN</td>\n",
       "      <td>Single</td>\n",
       "      <td>Star</td>\n",
       "      <td>2194.67</td>\n",
       "      <td>Standard</td>\n",
       "      <td>2012-9</td>\n",
       "      <td>Unknown</td>\n",
       "    </tr>\n",
       "    <tr>\n",
       "      <th>365576</th>\n",
       "      <td>910391</td>\n",
       "      <td>2017</td>\n",
       "      <td>9</td>\n",
       "      <td>10</td>\n",
       "      <td>7</td>\n",
       "      <td>17</td>\n",
       "      <td>1615</td>\n",
       "      <td>161.00</td>\n",
       "      <td>0</td>\n",
       "      <td>0</td>\n",
       "      <td>Canada</td>\n",
       "      <td>Alberta</td>\n",
       "      <td>Calgary</td>\n",
       "      <td>T3E 2V9</td>\n",
       "      <td>Female</td>\n",
       "      <td>Bachelor</td>\n",
       "      <td>67220.0</td>\n",
       "      <td>Single</td>\n",
       "      <td>Aurora</td>\n",
       "      <td>8346.98</td>\n",
       "      <td>Standard</td>\n",
       "      <td>2013-1</td>\n",
       "      <td>Unknown</td>\n",
       "    </tr>\n",
       "    <tr>\n",
       "      <th>315081</th>\n",
       "      <td>796429</td>\n",
       "      <td>2017</td>\n",
       "      <td>10</td>\n",
       "      <td>0</td>\n",
       "      <td>0</td>\n",
       "      <td>0</td>\n",
       "      <td>0</td>\n",
       "      <td>0.00</td>\n",
       "      <td>0</td>\n",
       "      <td>0</td>\n",
       "      <td>Canada</td>\n",
       "      <td>Manitoba</td>\n",
       "      <td>Winnipeg</td>\n",
       "      <td>R2C 0M5</td>\n",
       "      <td>Male</td>\n",
       "      <td>College</td>\n",
       "      <td>NaN</td>\n",
       "      <td>Single</td>\n",
       "      <td>Nova</td>\n",
       "      <td>3059.18</td>\n",
       "      <td>Standard</td>\n",
       "      <td>2013-6</td>\n",
       "      <td>2014-2</td>\n",
       "    </tr>\n",
       "    <tr>\n",
       "      <th>248725</th>\n",
       "      <td>651281</td>\n",
       "      <td>2018</td>\n",
       "      <td>2</td>\n",
       "      <td>10</td>\n",
       "      <td>0</td>\n",
       "      <td>10</td>\n",
       "      <td>2170</td>\n",
       "      <td>234.36</td>\n",
       "      <td>0</td>\n",
       "      <td>0</td>\n",
       "      <td>Canada</td>\n",
       "      <td>Alberta</td>\n",
       "      <td>Calgary</td>\n",
       "      <td>T3E 2V9</td>\n",
       "      <td>Female</td>\n",
       "      <td>Bachelor</td>\n",
       "      <td>54529.0</td>\n",
       "      <td>Married</td>\n",
       "      <td>Star</td>\n",
       "      <td>31161.75</td>\n",
       "      <td>Standard</td>\n",
       "      <td>2015-7</td>\n",
       "      <td>Unknown</td>\n",
       "    </tr>\n",
       "  </tbody>\n",
       "</table>\n",
       "</div>"
      ],
      "text/plain": [
       "        Loyalty Number  Year  Month  Flights Booked  Flights with Companions  \\\n",
       "78125           274817  2017      7               9                        0   \n",
       "357541          892273  2018      2               0                        0   \n",
       "365576          910391  2017      9              10                        7   \n",
       "315081          796429  2017     10               0                        0   \n",
       "248725          651281  2018      2              10                        0   \n",
       "\n",
       "        Total Flights  Distance  Points Accumulated  Points Redeemed  \\\n",
       "78125               9      3528              352.00                0   \n",
       "357541              0         0                0.00                0   \n",
       "365576             17      1615              161.00                0   \n",
       "315081              0         0                0.00                0   \n",
       "248725             10      2170              234.36                0   \n",
       "\n",
       "        Dollar Cost Points Redeemed Country  Province      City Postal Code  \\\n",
       "78125                             0  Canada   Ontario   Sudbury     M5V 1G5   \n",
       "357541                            0  Canada   Ontario   Toronto     P5S 6R4   \n",
       "365576                            0  Canada   Alberta   Calgary     T3E 2V9   \n",
       "315081                            0  Canada  Manitoba  Winnipeg     R2C 0M5   \n",
       "248725                            0  Canada   Alberta   Calgary     T3E 2V9   \n",
       "\n",
       "        Gender Education   Salary Marital Status Loyalty Card       CLV  \\\n",
       "78125   Female   College      NaN         Single       Aurora   6511.10   \n",
       "357541  Female   College      NaN         Single         Star   2194.67   \n",
       "365576  Female  Bachelor  67220.0         Single       Aurora   8346.98   \n",
       "315081    Male   College      NaN         Single         Nova   3059.18   \n",
       "248725  Female  Bachelor  54529.0        Married         Star  31161.75   \n",
       "\n",
       "       Enrollment Type Enrollment Date Cancellation Date  \n",
       "78125         Standard          2014-8           Unknown  \n",
       "357541        Standard          2012-9           Unknown  \n",
       "365576        Standard          2013-1           Unknown  \n",
       "315081        Standard          2013-6            2014-2  \n",
       "248725        Standard          2015-7           Unknown  "
      ]
     },
     "execution_count": 28,
     "metadata": {},
     "output_type": "execute_result"
    }
   ],
   "source": [
    "percentage_unknown = df_customers['Cancellation Date'].value_counts(normalize=True).mul(100)['Unknown']\n",
    "print(f'El porcentaje de \"Unknown\" es: {percentage_unknown}, lo que coincide con el porcentaje de nulos que teníamos anteriormente para las columnas \"Cancellation Month\" y \"Cancellation Year\" (87.7%).')\n",
    "\n",
    "# Visualizamos los cambios:\n",
    "df_customers.sample(5)"
   ]
  },
  {
   "cell_type": "markdown",
   "metadata": {},
   "source": [
    "##### Columna **'Salary'**:"
   ]
  },
  {
   "cell_type": "code",
   "execution_count": 29,
   "metadata": {},
   "outputs": [
    {
     "name": "stdout",
     "output_type": "stream",
     "text": [
      "Recordamos que la columna \"Salary\" es de tipo: float64.\n",
      "--------------------------------------------------------------------------------\n",
      "Que su porcentaje de nulos es 25.430447902490975.\n",
      "--------------------------------------------------------------------------------\n",
      "Y que la distribución de sus valores (incluidos nulos) es la siguiente: Salary\n",
      "NaN         25.445809\n",
      "101933.0     0.136715\n",
      "61809.0      0.083218\n",
      "51573.0      0.083218\n",
      "62283.0      0.083218\n",
      "              ...    \n",
      "54610.0      0.005944\n",
      "281486.0     0.005944\n",
      "79403.0      0.005944\n",
      "63506.0      0.005944\n",
      "46594.0      0.005944\n",
      "Name: proportion, Length: 5871, dtype: float64\n"
     ]
    }
   ],
   "source": [
    "print(f'Recordamos que la columna \"Salary\" es de tipo: {df_customers.dtypes[\"Salary\"]}.')\n",
    "print('--------------------------------------------------------------------------------')\n",
    "print(f'Que su porcentaje de nulos es {salary_final_nulls_percentage}.')\n",
    "print('--------------------------------------------------------------------------------')\n",
    "print(f'Y que la distribución de sus valores (incluidos nulos) es la siguiente: {df_customers['Salary'].value_counts(dropna=False, normalize=True) * 100}')"
   ]
  },
  {
   "cell_type": "markdown",
   "metadata": {},
   "source": [
    "Representación gráfica de lo anterior:"
   ]
  },
  {
   "cell_type": "code",
   "execution_count": 30,
   "metadata": {},
   "outputs": [
    {
     "data": {
      "image/png": "[encoded data removed]",
      "text/plain": [
       "<Figure size 1000x500 with 1 Axes>"
      ]
     },
     "metadata": {},
     "output_type": "display_data"
    }
   ],
   "source": [
    "plt.figure(figsize=(10, 5))\n",
    "\n",
    "sns.boxplot(df_customers['Salary'].dropna(), color='skyblue')\n",
    "\n",
    "plt.title(\"Salary Distribution (without nulls)\")\n",
    "plt.xlabel(\"Salary\")\n",
    "plt.ylabel(\"Frequency\")\n",
    "\n",
    "plt.show()"
   ]
  },
  {
   "cell_type": "markdown",
   "metadata": {},
   "source": [
    "**Conclusiones:**\n",
    "> - La caja azul muestra el rango en el que se encuentra el 50% de los valores de 'Salary', con la mediana de estos valores casi en el límite superior de este rango, seguramente, debido a la gran cantidad de outliers que se encuentran por encima del máximo.\n",
    "\n",
    "> - 'Salary' tiene un alto porcentaje de nulos, por lo que decidimos emplear técnicas avanzadas de inferenciación, como **IterativeImputer**."
   ]
  },
  {
   "cell_type": "code",
   "execution_count": 31,
   "metadata": {},
   "outputs": [
    {
     "data": {
      "text/html": [
       "<div>\n",
       "<style scoped>\n",
       "    .dataframe tbody tr th:only-of-type {\n",
       "        vertical-align: middle;\n",
       "    }\n",
       "\n",
       "    .dataframe tbody tr th {\n",
       "        vertical-align: top;\n",
       "    }\n",
       "\n",
       "    .dataframe thead th {\n",
       "        text-align: right;\n",
       "    }\n",
       "</style>\n",
       "<table border=\"1\" class=\"dataframe\">\n",
       "  <thead>\n",
       "    <tr style=\"text-align: right;\">\n",
       "      <th></th>\n",
       "      <th>Loyalty Number</th>\n",
       "      <th>Year</th>\n",
       "      <th>Month</th>\n",
       "      <th>Flights Booked</th>\n",
       "      <th>Flights with Companions</th>\n",
       "      <th>Total Flights</th>\n",
       "      <th>Distance</th>\n",
       "      <th>Points Accumulated</th>\n",
       "      <th>Points Redeemed</th>\n",
       "      <th>Dollar Cost Points Redeemed</th>\n",
       "      <th>Country</th>\n",
       "      <th>Province</th>\n",
       "      <th>City</th>\n",
       "      <th>Postal Code</th>\n",
       "      <th>Gender</th>\n",
       "      <th>Education</th>\n",
       "      <th>Salary</th>\n",
       "      <th>Marital Status</th>\n",
       "      <th>Loyalty Card</th>\n",
       "      <th>CLV</th>\n",
       "      <th>Enrollment Type</th>\n",
       "      <th>Enrollment Date</th>\n",
       "      <th>Cancellation Date</th>\n",
       "    </tr>\n",
       "  </thead>\n",
       "  <tbody>\n",
       "    <tr>\n",
       "      <th>392665</th>\n",
       "      <td>969924</td>\n",
       "      <td>2017</td>\n",
       "      <td>2</td>\n",
       "      <td>6</td>\n",
       "      <td>4</td>\n",
       "      <td>10</td>\n",
       "      <td>3060</td>\n",
       "      <td>306.0</td>\n",
       "      <td>0</td>\n",
       "      <td>0</td>\n",
       "      <td>Canada</td>\n",
       "      <td>British Columbia</td>\n",
       "      <td>Vancouver</td>\n",
       "      <td>V5R 1W3</td>\n",
       "      <td>Male</td>\n",
       "      <td>College</td>\n",
       "      <td>79441.628829</td>\n",
       "      <td>Single</td>\n",
       "      <td>Star</td>\n",
       "      <td>7602.66</td>\n",
       "      <td>Standard</td>\n",
       "      <td>2013-8</td>\n",
       "      <td>Unknown</td>\n",
       "    </tr>\n",
       "    <tr>\n",
       "      <th>140250</th>\n",
       "      <td>413266</td>\n",
       "      <td>2018</td>\n",
       "      <td>7</td>\n",
       "      <td>15</td>\n",
       "      <td>11</td>\n",
       "      <td>26</td>\n",
       "      <td>5252</td>\n",
       "      <td>525.0</td>\n",
       "      <td>0</td>\n",
       "      <td>0</td>\n",
       "      <td>Canada</td>\n",
       "      <td>Ontario</td>\n",
       "      <td>Sudbury</td>\n",
       "      <td>M5V 1G5</td>\n",
       "      <td>Male</td>\n",
       "      <td>College</td>\n",
       "      <td>79441.628829</td>\n",
       "      <td>Single</td>\n",
       "      <td>Nova</td>\n",
       "      <td>9333.08</td>\n",
       "      <td>Standard</td>\n",
       "      <td>2016-9</td>\n",
       "      <td>Unknown</td>\n",
       "    </tr>\n",
       "    <tr>\n",
       "      <th>144393</th>\n",
       "      <td>422803</td>\n",
       "      <td>2018</td>\n",
       "      <td>3</td>\n",
       "      <td>3</td>\n",
       "      <td>3</td>\n",
       "      <td>6</td>\n",
       "      <td>3156</td>\n",
       "      <td>340.2</td>\n",
       "      <td>701</td>\n",
       "      <td>57</td>\n",
       "      <td>Canada</td>\n",
       "      <td>Quebec</td>\n",
       "      <td>Montreal</td>\n",
       "      <td>H4G 3T4</td>\n",
       "      <td>Female</td>\n",
       "      <td>Bachelor</td>\n",
       "      <td>50879.000000</td>\n",
       "      <td>Single</td>\n",
       "      <td>Star</td>\n",
       "      <td>3933.81</td>\n",
       "      <td>Standard</td>\n",
       "      <td>2017-3</td>\n",
       "      <td>Unknown</td>\n",
       "    </tr>\n",
       "  </tbody>\n",
       "</table>\n",
       "</div>"
      ],
      "text/plain": [
       "        Loyalty Number  Year  Month  Flights Booked  Flights with Companions  \\\n",
       "392665          969924  2017      2               6                        4   \n",
       "140250          413266  2018      7              15                       11   \n",
       "144393          422803  2018      3               3                        3   \n",
       "\n",
       "        Total Flights  Distance  Points Accumulated  Points Redeemed  \\\n",
       "392665             10      3060               306.0                0   \n",
       "140250             26      5252               525.0                0   \n",
       "144393              6      3156               340.2              701   \n",
       "\n",
       "        Dollar Cost Points Redeemed Country          Province       City  \\\n",
       "392665                            0  Canada  British Columbia  Vancouver   \n",
       "140250                            0  Canada           Ontario    Sudbury   \n",
       "144393                           57  Canada            Quebec   Montreal   \n",
       "\n",
       "       Postal Code  Gender Education        Salary Marital Status  \\\n",
       "392665     V5R 1W3    Male   College  79441.628829         Single   \n",
       "140250     M5V 1G5    Male   College  79441.628829         Single   \n",
       "144393     H4G 3T4  Female  Bachelor  50879.000000         Single   \n",
       "\n",
       "       Loyalty Card      CLV Enrollment Type Enrollment Date Cancellation Date  \n",
       "392665         Star  7602.66        Standard          2013-8           Unknown  \n",
       "140250         Nova  9333.08        Standard          2016-9           Unknown  \n",
       "144393         Star  3933.81        Standard          2017-3           Unknown  "
      ]
     },
     "execution_count": 31,
     "metadata": {},
     "output_type": "execute_result"
    }
   ],
   "source": [
    "# Creamos y aplicamos la inferenciación:\n",
    "\n",
    "imputer_iterative = IterativeImputer(max_iter = 100, random_state = 42)\n",
    "df_customers['Salary'] = imputer_iterative.fit_transform(df_customers[['Salary']])\n",
    "\n",
    "\n",
    "# Comprobamos los cambios:\n",
    "\n",
    "df_customers.sample(3)"
   ]
  },
  {
   "cell_type": "code",
   "execution_count": 32,
   "metadata": {},
   "outputs": [
    {
     "data": {
      "text/html": [
       "<div>\n",
       "<style scoped>\n",
       "    .dataframe tbody tr th:only-of-type {\n",
       "        vertical-align: middle;\n",
       "    }\n",
       "\n",
       "    .dataframe tbody tr th {\n",
       "        vertical-align: top;\n",
       "    }\n",
       "\n",
       "    .dataframe thead th {\n",
       "        text-align: right;\n",
       "    }\n",
       "</style>\n",
       "<table border=\"1\" class=\"dataframe\">\n",
       "  <thead>\n",
       "    <tr style=\"text-align: right;\">\n",
       "      <th></th>\n",
       "      <th>Loyalty Number</th>\n",
       "      <th>Year</th>\n",
       "      <th>Month</th>\n",
       "      <th>Flights Booked</th>\n",
       "      <th>Flights with Companions</th>\n",
       "      <th>Total Flights</th>\n",
       "      <th>Distance</th>\n",
       "      <th>Points Accumulated</th>\n",
       "      <th>Points Redeemed</th>\n",
       "      <th>Dollar Cost Points Redeemed</th>\n",
       "      <th>Country</th>\n",
       "      <th>Province</th>\n",
       "      <th>City</th>\n",
       "      <th>Postal Code</th>\n",
       "      <th>Gender</th>\n",
       "      <th>Education</th>\n",
       "      <th>Salary</th>\n",
       "      <th>Marital Status</th>\n",
       "      <th>Loyalty Card</th>\n",
       "      <th>CLV</th>\n",
       "      <th>Enrollment Type</th>\n",
       "      <th>Enrollment Date</th>\n",
       "      <th>Cancellation Date</th>\n",
       "    </tr>\n",
       "  </thead>\n",
       "  <tbody>\n",
       "    <tr>\n",
       "      <th>206983</th>\n",
       "      <td>560149</td>\n",
       "      <td>2017</td>\n",
       "      <td>8</td>\n",
       "      <td>14</td>\n",
       "      <td>0</td>\n",
       "      <td>14</td>\n",
       "      <td>3458</td>\n",
       "      <td>345.0</td>\n",
       "      <td>0</td>\n",
       "      <td>0</td>\n",
       "      <td>Canada</td>\n",
       "      <td>British Columbia</td>\n",
       "      <td>Vancouver</td>\n",
       "      <td>V1E 4R6</td>\n",
       "      <td>Male</td>\n",
       "      <td>Bachelor</td>\n",
       "      <td>64417.00</td>\n",
       "      <td>Single</td>\n",
       "      <td>Aurora</td>\n",
       "      <td>12036.62</td>\n",
       "      <td>Standard</td>\n",
       "      <td>2016-9</td>\n",
       "      <td>Unknown</td>\n",
       "    </tr>\n",
       "    <tr>\n",
       "      <th>232153</th>\n",
       "      <td>614379</td>\n",
       "      <td>2017</td>\n",
       "      <td>2</td>\n",
       "      <td>0</td>\n",
       "      <td>0</td>\n",
       "      <td>0</td>\n",
       "      <td>0</td>\n",
       "      <td>0.0</td>\n",
       "      <td>0</td>\n",
       "      <td>0</td>\n",
       "      <td>Canada</td>\n",
       "      <td>Saskatchewan</td>\n",
       "      <td>Regina</td>\n",
       "      <td>S6J 3G0</td>\n",
       "      <td>Male</td>\n",
       "      <td>College</td>\n",
       "      <td>79441.63</td>\n",
       "      <td>Single</td>\n",
       "      <td>Star</td>\n",
       "      <td>2222.87</td>\n",
       "      <td>Standard</td>\n",
       "      <td>2014-2</td>\n",
       "      <td>Unknown</td>\n",
       "    </tr>\n",
       "    <tr>\n",
       "      <th>114442</th>\n",
       "      <td>354477</td>\n",
       "      <td>2017</td>\n",
       "      <td>11</td>\n",
       "      <td>0</td>\n",
       "      <td>0</td>\n",
       "      <td>0</td>\n",
       "      <td>0</td>\n",
       "      <td>0.0</td>\n",
       "      <td>0</td>\n",
       "      <td>0</td>\n",
       "      <td>Canada</td>\n",
       "      <td>British Columbia</td>\n",
       "      <td>Dawson Creek</td>\n",
       "      <td>U5I 4F1</td>\n",
       "      <td>Male</td>\n",
       "      <td>College</td>\n",
       "      <td>79441.63</td>\n",
       "      <td>Single</td>\n",
       "      <td>Star</td>\n",
       "      <td>2504.44</td>\n",
       "      <td>Standard</td>\n",
       "      <td>2016-5</td>\n",
       "      <td>Unknown</td>\n",
       "    </tr>\n",
       "  </tbody>\n",
       "</table>\n",
       "</div>"
      ],
      "text/plain": [
       "        Loyalty Number  Year  Month  Flights Booked  Flights with Companions  \\\n",
       "206983          560149  2017      8              14                        0   \n",
       "232153          614379  2017      2               0                        0   \n",
       "114442          354477  2017     11               0                        0   \n",
       "\n",
       "        Total Flights  Distance  Points Accumulated  Points Redeemed  \\\n",
       "206983             14      3458               345.0                0   \n",
       "232153              0         0                 0.0                0   \n",
       "114442              0         0                 0.0                0   \n",
       "\n",
       "        Dollar Cost Points Redeemed Country          Province          City  \\\n",
       "206983                            0  Canada  British Columbia     Vancouver   \n",
       "232153                            0  Canada      Saskatchewan        Regina   \n",
       "114442                            0  Canada  British Columbia  Dawson Creek   \n",
       "\n",
       "       Postal Code Gender Education    Salary Marital Status Loyalty Card  \\\n",
       "206983     V1E 4R6   Male  Bachelor  64417.00         Single       Aurora   \n",
       "232153     S6J 3G0   Male   College  79441.63         Single         Star   \n",
       "114442     U5I 4F1   Male   College  79441.63         Single         Star   \n",
       "\n",
       "             CLV Enrollment Type Enrollment Date Cancellation Date  \n",
       "206983  12036.62        Standard          2016-9           Unknown  \n",
       "232153   2222.87        Standard          2014-2           Unknown  \n",
       "114442   2504.44        Standard          2016-5           Unknown  "
      ]
     },
     "execution_count": 32,
     "metadata": {},
     "output_type": "execute_result"
    }
   ],
   "source": [
    "# Como salen demasiados decimales en 'Salary', redondeamos a 2 decimales y comprobamos una última vez los cambios:\n",
    "\n",
    "df_customers['Salary'] = df_customers['Salary'].round(2)\n",
    "df_customers.sample(3)"
   ]
  },
  {
   "cell_type": "markdown",
   "metadata": {},
   "source": [
    "Comprobamos que ya no hay ninguna columna con valores nulos:"
   ]
  },
  {
   "cell_type": "code",
   "execution_count": 33,
   "metadata": {},
   "outputs": [
    {
     "data": {
      "text/plain": [
       "Loyalty Number                 0\n",
       "Year                           0\n",
       "Month                          0\n",
       "Flights Booked                 0\n",
       "Flights with Companions        0\n",
       "Total Flights                  0\n",
       "Distance                       0\n",
       "Points Accumulated             0\n",
       "Points Redeemed                0\n",
       "Dollar Cost Points Redeemed    0\n",
       "Country                        0\n",
       "Province                       0\n",
       "City                           0\n",
       "Postal Code                    0\n",
       "Gender                         0\n",
       "Education                      0\n",
       "Salary                         0\n",
       "Marital Status                 0\n",
       "Loyalty Card                   0\n",
       "CLV                            0\n",
       "Enrollment Type                0\n",
       "Enrollment Date                0\n",
       "Cancellation Date              0\n",
       "dtype: int64"
      ]
     },
     "execution_count": 33,
     "metadata": {},
     "output_type": "execute_result"
    }
   ],
   "source": [
    "df_customers.isnull().sum()"
   ]
  },
  {
   "cell_type": "markdown",
   "metadata": {},
   "source": [
    "#### Guardamos el fichero final sobre el que hemos realizado la limpieza:"
   ]
  },
  {
   "cell_type": "code",
   "execution_count": 34,
   "metadata": {},
   "outputs": [],
   "source": [
    "df_customers.to_csv('df_customers_final.csv')"
   ]
  },
  {
   "cell_type": "markdown",
   "metadata": {},
   "source": [
    "## 2. Visualization"
   ]
  },
  {
   "cell_type": "markdown",
   "metadata": {},
   "source": [
    "#### 1. ¿Cómo se distribuye la cantidad de vuelos reservados por mes durante cada año?"
   ]
  },
  {
   "cell_type": "code",
   "execution_count": 35,
   "metadata": {},
   "outputs": [
    {
     "data": {
      "image/png": "[encoded data removed]",
      "text/plain": [
       "<Figure size 640x480 with 1 Axes>"
      ]
     },
     "metadata": {},
     "output_type": "display_data"
    }
   ],
   "source": [
    "sns.lineplot(x='Month', y='Flights Booked', hue='Year', data=df_customers, marker='o')\n",
    "\n",
    "plt.title('Tendency of Flight Bookings per Month and Year')\n",
    "plt.xlabel('Month')\n",
    "plt.ylabel('Flights Booked')\n",
    "\n",
    "plt.show()"
   ]
  },
  {
   "cell_type": "markdown",
   "metadata": {},
   "source": [
    "**Conclusiones:**\n",
    "> Aunque en el año 2018 hubo, por lo general, un mayor número de vuelos reservados, la tendencia a lo largo de los meses en ambos años es similar, presentando su mayor subida en los meses de verano (Junio-Agosto), seguido por Diciembre, y finalmente en el mes de Marzo."
   ]
  },
  {
   "cell_type": "markdown",
   "metadata": {},
   "source": [
    "Elección del gráfico:\n",
    "> *Hemos decidido hacer un gráfico de líneas básico porque estamos analizando una tendencia: una variable numérica (cantidad de vuelos resevados) en función de una variable categórica (mes), a su vez agrupada por otra variable categórica (año). También se podría haber visualizado con un gráfico de barras.*"
   ]
  },
  {
   "cell_type": "markdown",
   "metadata": {},
   "source": [
    "#### 2. ¿Existe una relación entre la distancia de los vuelos y los puntos acumulados por los clientes?"
   ]
  },
  {
   "cell_type": "code",
   "execution_count": 36,
   "metadata": {},
   "outputs": [
    {
     "data": {
      "image/png": "[encoded data removed]",
      "text/plain": [
       "<Figure size 800x500 with 1 Axes>"
      ]
     },
     "metadata": {},
     "output_type": "display_data"
    }
   ],
   "source": [
    "plt.figure(figsize=(8, 5))\n",
    "\n",
    "sns.scatterplot(x = 'Distance', y = 'Points Accumulated', hue='Loyalty Card', data = df_customers)\n",
    "\n",
    "plt.title('Relation between Flight Distance and Points Accumulated')\n",
    "plt.xlabel('Flight Distance')\n",
    "plt.ylabel('Points Accumulated')\n",
    "\n",
    "plt.show()"
   ]
  },
  {
   "cell_type": "markdown",
   "metadata": {},
   "source": [
    "**Conclusiones:**\n",
    "> Sí que existe una relación, pues a mayor distancia de los vuelos, más puntos acumulan los clientes.\n",
    "> Además, se pudo observar cómo, independientemente de usar o no el parámetro 'hue' para agrupar por tipo de tarjeta de fidelización, se forman cuatro líneas compuestas por los puntos del diagrama de dispersión, posiblemente derivada por la fuerte correlación existente entre la distancia de los vuelos y puntos acumulados, por cada tipo de tarjeta de fidelización."
   ]
  },
  {
   "cell_type": "markdown",
   "metadata": {},
   "source": [
    "Elección del gráfico:\n",
    "> *Como estamos analizando dos variables numéricas, lo más interesante es realizar un gráfico de dispersión.*"
   ]
  },
  {
   "cell_type": "markdown",
   "metadata": {},
   "source": [
    "#### 3. ¿Cuál es la distribución de los clientes por provincia o estado? Es decir, poder ver cuántos clientes hay en cada provincia."
   ]
  },
  {
   "cell_type": "markdown",
   "metadata": {},
   "source": [
    "**OBSERVACIÓN IMPORTANTE:**\n",
    "> Las visualizaciones que vienen a continuación (inclusive esta) están basadas, en algún punto, en el recuento de clientes, de modo que es importante eliminar los **'Loyalty Number'** duplicados para así aumentar la precisión del análisis:"
   ]
  },
  {
   "cell_type": "code",
   "execution_count": 37,
   "metadata": {},
   "outputs": [],
   "source": [
    "# Creamos un DataFrame filtrando únicamente las columnas de interés de cara a las visualizaciones que vienen a continuación:\n",
    "\n",
    "df_filtered = df_customers[['Loyalty Number', 'Province', 'Salary', 'Loyalty Card', 'Education', 'Marital Status', 'Gender']]"
   ]
  },
  {
   "cell_type": "code",
   "execution_count": 38,
   "metadata": {},
   "outputs": [
    {
     "name": "stdout",
     "output_type": "stream",
     "text": [
      "El total de valores duplicados en el DataFrame filtrado es: 387023.\n",
      "------------------------------------------------------------------------------------\n",
      "Y estos duplicados son:\n"
     ]
    },
    {
     "data": {
      "text/html": [
       "<div>\n",
       "<style scoped>\n",
       "    .dataframe tbody tr th:only-of-type {\n",
       "        vertical-align: middle;\n",
       "    }\n",
       "\n",
       "    .dataframe tbody tr th {\n",
       "        vertical-align: top;\n",
       "    }\n",
       "\n",
       "    .dataframe thead th {\n",
       "        text-align: right;\n",
       "    }\n",
       "</style>\n",
       "<table border=\"1\" class=\"dataframe\">\n",
       "  <thead>\n",
       "    <tr style=\"text-align: right;\">\n",
       "      <th></th>\n",
       "      <th>Loyalty Number</th>\n",
       "      <th>Province</th>\n",
       "      <th>Salary</th>\n",
       "      <th>Loyalty Card</th>\n",
       "      <th>Education</th>\n",
       "      <th>Marital Status</th>\n",
       "      <th>Gender</th>\n",
       "    </tr>\n",
       "  </thead>\n",
       "  <tbody>\n",
       "    <tr>\n",
       "      <th>0</th>\n",
       "      <td>100018</td>\n",
       "      <td>Alberta</td>\n",
       "      <td>92552.0</td>\n",
       "      <td>Aurora</td>\n",
       "      <td>Bachelor</td>\n",
       "      <td>Married</td>\n",
       "      <td>Female</td>\n",
       "    </tr>\n",
       "    <tr>\n",
       "      <th>1</th>\n",
       "      <td>100018</td>\n",
       "      <td>Alberta</td>\n",
       "      <td>92552.0</td>\n",
       "      <td>Aurora</td>\n",
       "      <td>Bachelor</td>\n",
       "      <td>Married</td>\n",
       "      <td>Female</td>\n",
       "    </tr>\n",
       "    <tr>\n",
       "      <th>2</th>\n",
       "      <td>100018</td>\n",
       "      <td>Alberta</td>\n",
       "      <td>92552.0</td>\n",
       "      <td>Aurora</td>\n",
       "      <td>Bachelor</td>\n",
       "      <td>Married</td>\n",
       "      <td>Female</td>\n",
       "    </tr>\n",
       "    <tr>\n",
       "      <th>3</th>\n",
       "      <td>100018</td>\n",
       "      <td>Alberta</td>\n",
       "      <td>92552.0</td>\n",
       "      <td>Aurora</td>\n",
       "      <td>Bachelor</td>\n",
       "      <td>Married</td>\n",
       "      <td>Female</td>\n",
       "    </tr>\n",
       "    <tr>\n",
       "      <th>4</th>\n",
       "      <td>100018</td>\n",
       "      <td>Alberta</td>\n",
       "      <td>92552.0</td>\n",
       "      <td>Aurora</td>\n",
       "      <td>Bachelor</td>\n",
       "      <td>Married</td>\n",
       "      <td>Female</td>\n",
       "    </tr>\n",
       "    <tr>\n",
       "      <th>...</th>\n",
       "      <td>...</td>\n",
       "      <td>...</td>\n",
       "      <td>...</td>\n",
       "      <td>...</td>\n",
       "      <td>...</td>\n",
       "      <td>...</td>\n",
       "      <td>...</td>\n",
       "    </tr>\n",
       "    <tr>\n",
       "      <th>405619</th>\n",
       "      <td>999986</td>\n",
       "      <td>Ontario</td>\n",
       "      <td>46594.0</td>\n",
       "      <td>Nova</td>\n",
       "      <td>Bachelor</td>\n",
       "      <td>Married</td>\n",
       "      <td>Female</td>\n",
       "    </tr>\n",
       "    <tr>\n",
       "      <th>405620</th>\n",
       "      <td>999986</td>\n",
       "      <td>Ontario</td>\n",
       "      <td>46594.0</td>\n",
       "      <td>Nova</td>\n",
       "      <td>Bachelor</td>\n",
       "      <td>Married</td>\n",
       "      <td>Female</td>\n",
       "    </tr>\n",
       "    <tr>\n",
       "      <th>405621</th>\n",
       "      <td>999986</td>\n",
       "      <td>Ontario</td>\n",
       "      <td>46594.0</td>\n",
       "      <td>Nova</td>\n",
       "      <td>Bachelor</td>\n",
       "      <td>Married</td>\n",
       "      <td>Female</td>\n",
       "    </tr>\n",
       "    <tr>\n",
       "      <th>405622</th>\n",
       "      <td>999986</td>\n",
       "      <td>Ontario</td>\n",
       "      <td>46594.0</td>\n",
       "      <td>Nova</td>\n",
       "      <td>Bachelor</td>\n",
       "      <td>Married</td>\n",
       "      <td>Female</td>\n",
       "    </tr>\n",
       "    <tr>\n",
       "      <th>405623</th>\n",
       "      <td>999986</td>\n",
       "      <td>Ontario</td>\n",
       "      <td>46594.0</td>\n",
       "      <td>Nova</td>\n",
       "      <td>Bachelor</td>\n",
       "      <td>Married</td>\n",
       "      <td>Female</td>\n",
       "    </tr>\n",
       "  </tbody>\n",
       "</table>\n",
       "<p>403760 rows × 7 columns</p>\n",
       "</div>"
      ],
      "text/plain": [
       "        Loyalty Number Province   Salary Loyalty Card Education  \\\n",
       "0               100018  Alberta  92552.0       Aurora  Bachelor   \n",
       "1               100018  Alberta  92552.0       Aurora  Bachelor   \n",
       "2               100018  Alberta  92552.0       Aurora  Bachelor   \n",
       "3               100018  Alberta  92552.0       Aurora  Bachelor   \n",
       "4               100018  Alberta  92552.0       Aurora  Bachelor   \n",
       "...                ...      ...      ...          ...       ...   \n",
       "405619          999986  Ontario  46594.0         Nova  Bachelor   \n",
       "405620          999986  Ontario  46594.0         Nova  Bachelor   \n",
       "405621          999986  Ontario  46594.0         Nova  Bachelor   \n",
       "405622          999986  Ontario  46594.0         Nova  Bachelor   \n",
       "405623          999986  Ontario  46594.0         Nova  Bachelor   \n",
       "\n",
       "       Marital Status  Gender  \n",
       "0             Married  Female  \n",
       "1             Married  Female  \n",
       "2             Married  Female  \n",
       "3             Married  Female  \n",
       "4             Married  Female  \n",
       "...               ...     ...  \n",
       "405619        Married  Female  \n",
       "405620        Married  Female  \n",
       "405621        Married  Female  \n",
       "405622        Married  Female  \n",
       "405623        Married  Female  \n",
       "\n",
       "[403760 rows x 7 columns]"
      ]
     },
     "execution_count": 38,
     "metadata": {},
     "output_type": "execute_result"
    }
   ],
   "source": [
    "# Valoramos los duplicados de estas columnas:\n",
    "\n",
    "duplicates2 = df_filtered[df_filtered.duplicated(keep=False)]\n",
    "\n",
    "print(f'El total de valores duplicados en el DataFrame filtrado es: {df_filtered.duplicated().sum()}.')\n",
    "print('------------------------------------------------------------------------------------')\n",
    "print(f'Y estos duplicados son:')\n",
    "duplicates2"
   ]
  },
  {
   "cell_type": "code",
   "execution_count": 39,
   "metadata": {},
   "outputs": [
    {
     "name": "stdout",
     "output_type": "stream",
     "text": [
      "El recuento de duplicados del DataFrame filtrado, tras la eliminación de los mismos, es:\n",
      "0\n"
     ]
    }
   ],
   "source": [
    "df_filtered_without_dup = df_filtered.drop_duplicates(keep='first')\n",
    "\n",
    "print(f'El recuento de duplicados del DataFrame filtrado, tras la eliminación de los mismos, es:\\n{df_filtered_without_dup.duplicated().sum()}')"
   ]
  },
  {
   "cell_type": "code",
   "execution_count": 40,
   "metadata": {},
   "outputs": [
    {
     "data": {
      "image/png": "[encoded data removed]",
      "text/plain": [
       "<Figure size 1000x800 with 1 Axes>"
      ]
     },
     "metadata": {},
     "output_type": "display_data"
    }
   ],
   "source": [
    "plt.figure(figsize=(10, 8))\n",
    "\n",
    "sns.countplot(x='Province', data=df_filtered_without_dup, palette='Set3')\n",
    "\n",
    "plt.title('Distribution of Customers by Province')\n",
    "plt.xlabel('Province')\n",
    "plt.ylabel('Number of Customers')\n",
    "\n",
    "plt.xticks(rotation=45)\n",
    "\n",
    "plt.show()"
   ]
  },
  {
   "cell_type": "markdown",
   "metadata": {},
   "source": [
    "**Conclusiones:**\n",
    "> La mayor parte de los clientes proviene de Ontario, seguidos British Columbia y, en tercer lugar, Quebec."
   ]
  },
  {
   "cell_type": "markdown",
   "metadata": {},
   "source": [
    "Elección del gráfico:\n",
    "> *Hemos utilizado un diagrama de barras apiladas porque permite el recuento directo la cantidad de ocurrencias (en este caso, clientes) por cada categoría (en este caso, provincia).*"
   ]
  },
  {
   "cell_type": "markdown",
   "metadata": {},
   "source": [
    "#### 4. Compara el salario promedio por nivel educativo."
   ]
  },
  {
   "cell_type": "code",
   "execution_count": 41,
   "metadata": {},
   "outputs": [
    {
     "data": {
      "image/png": "[encoded data removed]",
      "text/plain": [
       "<Figure size 640x480 with 1 Axes>"
      ]
     },
     "metadata": {},
     "output_type": "display_data"
    }
   ],
   "source": [
    "sns.barplot(x='Education', y='Salary', estimator=np.mean, ci='sd', data=df_filtered_without_dup, palette='Set1')\n",
    "\n",
    "plt.title('Comparison of Average Salary by Education Level')\n",
    "plt.xlabel('Education Level')\n",
    "plt.ylabel('Average Salary')\n",
    "\n",
    "plt.xticks(rotation=45)\n",
    "\n",
    "plt.show()"
   ]
  },
  {
   "cell_type": "markdown",
   "metadata": {},
   "source": [
    "**Conclusiones:**\n",
    "> - El salario medio más alto lo tienen aquellos clientes cuyo nivel educativo es de 'Doctor', seguido por aquellos que cursaron un 'Master'.\n",
    "> - Además, aunque la media del salario de los/as doctores es la más alta, el salario de estos/as doctores podría variar más con respecto a otros niveles educativos."
   ]
  },
  {
   "cell_type": "markdown",
   "metadata": {},
   "source": [
    "Elección del gráfico:\n",
    "> *Utilizar un diagrama de barras permite comparar la variable categórica (el nivel educativo) con una numérica (el salario), de la que necesitamos su media. Hemos añadido el parámetro \"estimator=np.mean, ci='sd'\" con el fin de mostrar también la desviación estándar, y así poder ver dónde se mueven esos valores en torno a la media.*"
   ]
  },
  {
   "cell_type": "markdown",
   "metadata": {},
   "source": [
    "#### 5. ¿Cuál es el porcentaje de clientes por cada tipo de tarjeta de fidelidad?"
   ]
  },
  {
   "cell_type": "code",
   "execution_count": 42,
   "metadata": {},
   "outputs": [
    {
     "data": {
      "image/png": "[encoded data removed]",
      "text/plain": [
       "<Figure size 640x480 with 1 Axes>"
      ]
     },
     "metadata": {},
     "output_type": "display_data"
    }
   ],
   "source": [
    "# Primero es necesario calcular el porcentaje de clientes por cada tipo de tarjeta (donde cada tipo tipo de tarjeta es el 100%):\n",
    "\n",
    "percentage_loyalty_clients_without_dup = df_filtered_without_dup['Loyalty Card'].value_counts(normalize=True)*100 \n",
    "\n",
    "# Con esto, es posible realizar la visualización:\n",
    "\n",
    "sns.barplot(x=percentage_loyalty_clients_without_dup.index, y=percentage_loyalty_clients_without_dup.values, palette='Set1') \n",
    "# donde 'index' será cada tipo de tarjeta, y 'values' los porcentajes de clientes asociados a cada tipo de tarjeta\n",
    "\n",
    "plt.title('Percentage of Customers per Loyalty Card Type')\n",
    "plt.xlabel('Loyalty Card Type')\n",
    "plt.ylabel('Percentage of Customers')\n",
    "\n",
    "plt.show()"
   ]
  },
  {
   "cell_type": "markdown",
   "metadata": {},
   "source": [
    "**Conclusiones:**\n",
    "> El mayor porcentaje de clientes tiene la tarjeta de fidelización \"Star\", seguido por \"Nova\" y finalmente \"Aurora\"."
   ]
  },
  {
   "cell_type": "markdown",
   "metadata": {},
   "source": [
    "Elección del gráfico:\n",
    "> *Una vez más, utilizamos un diagrama de barras para comparar la variable categórica (el tipo de tarjeta de fidelización) con una numérica (el número de clientes), de la que necesitamos su porcentaje.*"
   ]
  },
  {
   "cell_type": "markdown",
   "metadata": {},
   "source": [
    "#### 6. ¿Cómo se distribuyen los clientes según su estado civil y género? Es decir, una gráfica donde vea a mis clientes separados por la categoría de estado civil y que en cada categoría vea cuáles son hombres y cuales mujeres."
   ]
  },
  {
   "cell_type": "code",
   "execution_count": 43,
   "metadata": {},
   "outputs": [
    {
     "data": {
      "image/png": "[encoded data removed]",
      "text/plain": [
       "<Figure size 640x480 with 1 Axes>"
      ]
     },
     "metadata": {},
     "output_type": "display_data"
    }
   ],
   "source": [
    "sns.countplot(x='Marital Status', hue='Gender', data=df_filtered_without_dup, palette='Set2')\n",
    "\n",
    "plt.title('Distribution of Customers by Marital Status and Gender')\n",
    "plt.xlabel('Marital Status')\n",
    "plt.ylabel('Number of Customers')\n",
    "\n",
    "plt.show()"
   ]
  },
  {
   "cell_type": "markdown",
   "metadata": {},
   "source": [
    "**Conclusiones:**\n",
    "> La mayor parte de los clientes son casados, seguidos por solteros (donde predominan ligeramente las mujeres), y por último los divorciados (predominando también ligeramente las mujeres)."
   ]
  },
  {
   "cell_type": "markdown",
   "metadata": {},
   "source": [
    "Elección del gráfico:\n",
    "> *En este caso, un diagrama de barras apiladas permite contar directamente la cantidad de ocurrencias (en este caso clientes) dentro de cada categoría de estado civil.*"
   ]
  },
  {
   "cell_type": "markdown",
   "metadata": {},
   "source": [
    "## 3. Evaluation of Differences in Flight Bookings by Educational Level"
   ]
  },
  {
   "cell_type": "code",
   "execution_count": 44,
   "metadata": {},
   "outputs": [
    {
     "name": "stdout",
     "output_type": "stream",
     "text": [
      "A continuación, podemos observar el nuevo DataFrame, que incluye únicamente las columnas de interés para este análisis:\n",
      "--------------------------------\n",
      "        Flights Booked Education\n",
      "0                    3  Bachelor\n",
      "1                    2  Bachelor\n",
      "2                    6  Bachelor\n",
      "3                    4  Bachelor\n",
      "4                    0  Bachelor\n",
      "...                ...       ...\n",
      "405619              15  Bachelor\n",
      "405620               0  Bachelor\n",
      "405621               6  Bachelor\n",
      "405622              11  Bachelor\n",
      "405623               0  Bachelor\n",
      "\n",
      "[403760 rows x 2 columns]\n"
     ]
    }
   ],
   "source": [
    "df_filtered2 = df_customers[['Flights Booked', 'Education']]\n",
    "print(f'A continuación, podemos observar el nuevo DataFrame, que incluye únicamente las columnas de interés para este análisis:\\n--------------------------------\\n{df_filtered2}')"
   ]
  },
  {
   "cell_type": "markdown",
   "metadata": {},
   "source": [
    "#### **Análisis descriptivo**"
   ]
  },
  {
   "cell_type": "code",
   "execution_count": 45,
   "metadata": {},
   "outputs": [
    {
     "name": "stdout",
     "output_type": "stream",
     "text": [
      "La media del número de vuelos reservados por nivel educativo, es:\n",
      "----------\n",
      "Education\n",
      "Bachelor                4.11\n",
      "College                 4.17\n",
      "Doctor                  4.18\n",
      "High School or Below    4.18\n",
      "Master                  4.20\n",
      "Name: Flights Booked, dtype: float64\n",
      "-------------------------------------------------------------------------------------------\n",
      "La mediana del número de vuelos reservados por nivel educativo, es:\n",
      "----------\n",
      "Education\n",
      "Bachelor                1.0\n",
      "College                 1.0\n",
      "Doctor                  1.0\n",
      "High School or Below    1.0\n",
      "Master                  1.0\n",
      "Name: Flights Booked, dtype: float64\n",
      "-------------------------------------------------------------------------------------------\n",
      "La desviación estándar del número de vuelos reservados por nivel educativo, es:\n",
      "----------\n",
      "Education\n",
      "Bachelor                5.22\n",
      "College                 5.25\n",
      "Doctor                  5.26\n",
      "High School or Below    5.24\n",
      "Master                  5.21\n",
      "Name: Flights Booked, dtype: float64\n"
     ]
    }
   ],
   "source": [
    "# Para poder calcular los estadísticos básicos del número de vuelos por cada nivel educativo, primero será necesario realizar dicha agrupación:\n",
    "\n",
    "df_flights_education = df_filtered2.groupby('Education')['Flights Booked']\n",
    "\n",
    "# Seguido por el cálculo de los mismos:\n",
    "mean_flights = df_flights_education.mean()\n",
    "median_flights = df_flights_education.median()\n",
    "std_flights = df_flights_education.std()\n",
    "\n",
    "print(f\"La media del número de vuelos reservados por nivel educativo, es:\\n----------\\n{np.round(mean_flights, 2)}\")\n",
    "print('-------------------------------------------------------------------------------------------')\n",
    "print(f\"La mediana del número de vuelos reservados por nivel educativo, es:\\n----------\\n{np.round(median_flights, 2)}\")\n",
    "print('-------------------------------------------------------------------------------------------')\n",
    "print(f\"La desviación estándar del número de vuelos reservados por nivel educativo, es:\\n----------\\n{np.round(std_flights, 2)}\")"
   ]
  },
  {
   "cell_type": "markdown",
   "metadata": {},
   "source": [
    "Representación gráfica de lo anterior:"
   ]
  },
  {
   "cell_type": "code",
   "execution_count": 46,
   "metadata": {},
   "outputs": [
    {
     "data": {
      "image/png": "[encoded data removed]",
      "text/plain": [
       "<Figure size 1000x600 with 1 Axes>"
      ]
     },
     "metadata": {},
     "output_type": "display_data"
    }
   ],
   "source": [
    "plt.figure(figsize=(10, 6))\n",
    "\n",
    "sns.boxplot(x=\"Education\", y=\"Flights Booked\", data=df_customers, palette=\"coolwarm\")\n",
    "\n",
    "plt.title(\"Distribution of Flights Booked by Education Level\")\n",
    "plt.xlabel(\"Education Level\")\n",
    "plt.ylabel(\"Number of Flights Booked\")\n",
    "\n",
    "plt.xticks(rotation=45)\n",
    "\n",
    "plt.show()"
   ]
  },
  {
   "cell_type": "markdown",
   "metadata": {},
   "source": [
    "**Conclusiones:**\n",
    "> Como podemos observar, a priori no existen diferencias entre la media, mediana y desviación estándar del número de vuelos reservados entre cada nivel educativo."
   ]
  },
  {
   "cell_type": "markdown",
   "metadata": {},
   "source": [
    "#### **Análisis inferencial**"
   ]
  },
  {
   "cell_type": "code",
   "execution_count": 47,
   "metadata": {},
   "outputs": [],
   "source": [
    "# Creamos la función de prueba de hipótesis que aplicaremos entre cada grupo de nivel educativo:\n",
    "\n",
    "def hypothesis_test(*args):\n",
    "    \"\"\"\n",
    "    Performs a hypothesis test to compare groups.\n",
    "    1. First, it checks if the data is normal using the Shapiro-Wilk or Kolmogorov-Smirnov test.\n",
    "    2. If the data is normal, it uses Bartlett's test to check for equal variances. If not, it uses Levene's test.\n",
    "    3. If variances are equal, it applies Student's t-test; otherwise, it applies Welch's t-test.\n",
    "    4. If the data is not normal, it uses the Mann-Whitney U test.\n",
    "\n",
    "    Parameters:\n",
    "    *args: lists or arrays containing the data for each group. It expects TWO groups to compare.\n",
    "\n",
    "    Returns:\n",
    "    dict with the results of the normality test, variance test, and hypothesis test.\n",
    "    \"\"\"\n",
    "\n",
    "    # Verify that at least two groups are provided\n",
    "    if len(args) < 2:\n",
    "        raise ValueError(\"Se necesitan al menos dos conjuntos de datos para realizar la prueba.\")\n",
    "\n",
    "    # Check normality in each group\n",
    "    normality = []\n",
    "    for group in args:\n",
    "        if len(group) > 50:\n",
    "            p_value_norm = stats.kstest(group, 'norm').pvalue  # Kolmogorov-Smirnov if n > 50\n",
    "        else:\n",
    "            p_value_norm = stats.shapiro(group).pvalue  # Shapiro-Wilk if n <= 50\n",
    "        normality.append(p_value_norm > 0.05)\n",
    "\n",
    "    data_is_normal = all(normality)  # True if all groups are normal\n",
    "\n",
    "    # Variance equality test\n",
    "    if data_is_normal:\n",
    "        p_value_variance = stats.bartlett(*args).pvalue  # Bartlett test if data is normal\n",
    "    else:\n",
    "        p_value_variance = stats.levene(*args, center=\"median\").pvalue  # Levene test if data is not normal\n",
    "\n",
    "    equal_variances = p_value_variance > 0.05\n",
    "\n",
    "    # Apply the appropriate test\n",
    "    if data_is_normal:\n",
    "        if equal_variances:\n",
    "            t_stat, p_value = stats.ttest_ind(*args, equal_var=True)\n",
    "            test_used = \"t-test de Student (varianzas iguales)\"\n",
    "        else:\n",
    "            t_stat, p_value = stats.ttest_ind(*args, equal_var=False)\n",
    "            test_used = \"t-test de Welch (varianzas desiguales)\"\n",
    "    else:\n",
    "        t_stat, p_value = stats.mannwhitneyu(*args)\n",
    "        test_used = \"Mann-Whitney U\"\n",
    "\n",
    "    # Significance level\n",
    "    alpha = 0.05\n",
    "\n",
    "    # Results\n",
    "    result = {\n",
    "        \"Test de Normalidad\": normality,\n",
    "        \"Datos Normales\": data_is_normal,\n",
    "        \"p-valor Varianza\": p_value_variance,\n",
    "        \"Varianzas Iguales\": equal_variances,\n",
    "        \"Test Usado\": test_used,\n",
    "        \"Estadístico\": t_stat,\n",
    "        \"p-valor\": p_value,\n",
    "        \"Conclusión\": \"Rechazamos H0. Es decir, sí hay diferencias significativas en el número de vuelos que reservan cada uno de estos dos grupos.\" if p_value < alpha else \"No se rechaza H0. Es decir, no hay diferencias significativas en el número de vuelos que reservan cada uno de estos dos grupos.\"\n",
    "    }\n",
    "\n",
    "    # Print results in a clear format\n",
    "    print(\"\\n📊 **Resultados de la Prueba de Hipótesis** 📊\")\n",
    "    print(f\"✅ Test de Normalidad: {'Sí' if data_is_normal else 'No'}\")\n",
    "    print(f\"   - Normalidad por grupo: {normality}\")\n",
    "    print(f\"✅ Test de Varianza: {'Iguales' if equal_variances else 'Desiguales'} (p = {p_value_variance:.4f})\")\n",
    "    print(f\"✅ Test aplicado: {test_used}\")\n",
    "    print(f\"📉 Estadístico: {t_stat:.4f}, p-valor: {p_value:.4f}\")\n",
    "    print(f\"🔍 Conclusión: {result['Conclusión']}\\n\")"
   ]
  },
  {
   "cell_type": "code",
   "execution_count": 48,
   "metadata": {},
   "outputs": [],
   "source": [
    "# Creamos cada grupo de nivel educativo sobre los que aplicaremos la prueba de hipótesis:\n",
    "\n",
    "highschool_group = df_customers[df_customers['Education']=='High School or Below']['Flights Booked']\n",
    "college_group = df_customers[df_customers['Education']=='College']['Flights Booked']\n",
    "bachelor_group = df_customers[df_customers['Education']=='Bachelor']['Flights Booked']\n",
    "master_group = df_customers[df_customers['Education']=='Master']['Flights Booked']\n",
    "doctor_group = df_customers[df_customers['Education']=='Doctor']['Flights Booked']"
   ]
  },
  {
   "cell_type": "markdown",
   "metadata": {},
   "source": [
    "A continuación, aplicamos la prueba de hipótesis a cada par de nivel educativo (ordenados de menor a mayor nivel), pues queremos determinar si existe una diferencia \n",
    "significativa en el número de vuelos reservados entre cada uno de ellos:"
   ]
  },
  {
   "cell_type": "code",
   "execution_count": 49,
   "metadata": {},
   "outputs": [
    {
     "name": "stdout",
     "output_type": "stream",
     "text": [
      "\n",
      "📊 **Resultados de la Prueba de Hipótesis** 📊\n",
      "✅ Test de Normalidad: No\n",
      "   - Normalidad por grupo: [False, False]\n",
      "✅ Test de Varianza: Iguales (p = 0.9502)\n",
      "✅ Test aplicado: Mann-Whitney U\n",
      "📉 Estadístico: 969453228.5000, p-valor: 0.5757\n",
      "🔍 Conclusión: No se rechaza H0. Es decir, no hay diferencias significativas en el número de vuelos que reservan cada uno de estos dos grupos.\n",
      "\n"
     ]
    }
   ],
   "source": [
    "hypothesis_test(highschool_group, college_group)"
   ]
  },
  {
   "cell_type": "code",
   "execution_count": 50,
   "metadata": {},
   "outputs": [
    {
     "name": "stdout",
     "output_type": "stream",
     "text": [
      "\n",
      "📊 **Resultados de la Prueba de Hipótesis** 📊\n",
      "✅ Test de Normalidad: No\n",
      "   - Normalidad por grupo: [False, False]\n",
      "✅ Test de Varianza: Desiguales (p = 0.0027)\n",
      "✅ Test aplicado: Mann-Whitney U\n",
      "📉 Estadístico: 12993040557.5000, p-valor: 0.0023\n",
      "🔍 Conclusión: Rechazamos H0. Es decir, sí hay diferencias significativas en el número de vuelos que reservan cada uno de estos dos grupos.\n",
      "\n"
     ]
    }
   ],
   "source": [
    "hypothesis_test(college_group, bachelor_group)"
   ]
  },
  {
   "cell_type": "code",
   "execution_count": 51,
   "metadata": {},
   "outputs": [
    {
     "name": "stdout",
     "output_type": "stream",
     "text": [
      "\n",
      "📊 **Resultados de la Prueba de Hipótesis** 📊\n",
      "✅ Test de Normalidad: No\n",
      "   - Normalidad por grupo: [False, False]\n",
      "✅ Test de Varianza: Iguales (p = 0.1183)\n",
      "✅ Test aplicado: Mann-Whitney U\n",
      "📉 Estadístico: 1532540228.0000, p-valor: 0.0141\n",
      "🔍 Conclusión: Rechazamos H0. Es decir, sí hay diferencias significativas en el número de vuelos que reservan cada uno de estos dos grupos.\n",
      "\n"
     ]
    }
   ],
   "source": [
    "hypothesis_test(bachelor_group, master_group)"
   ]
  },
  {
   "cell_type": "code",
   "execution_count": 52,
   "metadata": {},
   "outputs": [
    {
     "name": "stdout",
     "output_type": "stream",
     "text": [
      "\n",
      "📊 **Resultados de la Prueba de Hipótesis** 📊\n",
      "✅ Test de Normalidad: No\n",
      "   - Normalidad por grupo: [False, False]\n",
      "✅ Test de Varianza: Iguales (p = 0.8104)\n",
      "✅ Test aplicado: Mann-Whitney U\n",
      "📉 Estadístico: 109499288.0000, p-valor: 0.4139\n",
      "🔍 Conclusión: No se rechaza H0. Es decir, no hay diferencias significativas en el número de vuelos que reservan cada uno de estos dos grupos.\n",
      "\n"
     ]
    }
   ],
   "source": [
    "hypothesis_test(master_group, doctor_group)"
   ]
  },
  {
   "cell_type": "markdown",
   "metadata": {},
   "source": [
    "**Conclusiones:**\n",
    "> A pesar de que al analizar la estadística descriptiva y representar gráficamente la distribución del número de vuelos con respecto a cada nivel educativo no pareciese haber diferencias, sí que existen algunas, tal y como podemos comprobar al aplicar estadística inferencial:\n",
    "\n",
    ">   - Si bien no hay diferencias significativas entre el número de vuelos reservados por aquellos clientes cuyo nivel educativo es 'Highschool or Below' y 'College',\n",
    ">   - sí que las hay entre aquellos cuyo nivel educativo es 'College', 'Bachelor' y 'Master';\n",
    ">   - sin embargo, no hay diferencia significativa entre el número de vuelos reservados por aquellos clientes que cursaron un máster, y aquellos con el título de 'Doctor'"
   ]
  }
 ],
 "metadata": {
  "kernelspec": {
   "display_name": "base",
   "language": "python",
   "name": "python3"
  },
  "language_info": {
   "codemirror_mode": {
    "name": "ipython",
    "version": 3
   },
   "file_extension": ".py",
   "mimetype": "text/x-python",
   "name": "python",
   "nbconvert_exporter": "python",
   "pygments_lexer": "ipython3",
   "version": "3.12.7"
  }
 },
 "nbformat": 4,
 "nbformat_minor": 2
}
